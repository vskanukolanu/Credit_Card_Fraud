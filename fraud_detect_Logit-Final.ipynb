{
 "cells": [
  {
   "cell_type": "code",
   "execution_count": 5,
   "metadata": {},
   "outputs": [],
   "source": [
    "from IPython import get_ipython\n",
    "get_ipython().magic('reset -sf')\n",
    "\n",
    "import warnings\n",
    "warnings.filterwarnings('ignore')"
   ]
  },
  {
   "cell_type": "code",
   "execution_count": 6,
   "metadata": {
    "collapsed": true
   },
   "outputs": [],
   "source": [
    "from sklearn.metrics import confusion_matrix\n",
    "import itertools\n",
    "import pandas as pd\n",
    "import numpy as np\n",
    "import xgboost as xgb\n",
    "from xgboost.sklearn import XGBClassifier\n",
    "from sklearn import cross_validation, metrics   #Additional scklearn functions\n",
    "#from sklearn.grid_search import GridSearchCV   #Perforing grid search\n",
    "from imblearn.over_sampling import SMOTE       #over sampling of minority class in imbalanced data\n",
    "from imblearn.combine import SMOTEENN          #over sampling of minority class in imbalanced data\n",
    "from sklearn.model_selection import train_test_split, cross_validate, StratifiedKFold,GridSearchCV\n",
    "from sklearn.preprocessing import StandardScaler\n",
    "from sklearn.metrics import precision_recall_fscore_support\n",
    "\n",
    "from sklearn.feature_selection import RFE,RFECV\n",
    "from sklearn.linear_model import LogisticRegression,LogisticRegressionCV\n",
    "\n",
    "from sklearn.ensemble import RandomForestClassifier\n",
    "from sklearn.metrics import recall_score,average_precision_score,precision_recall_curve,precision_score\n",
    "\n",
    "import seaborn as sns\n",
    "import matplotlib.pylab as plt\n",
    "%matplotlib inline\n",
    "\n",
    "pd.set_option('display.max_columns', 50)\n",
    "pd.set_option('display.max_columns', 100)"
   ]
  },
  {
   "cell_type": "code",
   "execution_count": 7,
   "metadata": {},
   "outputs": [
    {
     "data": {
      "text/html": [
       "<div>\n",
       "<style>\n",
       "    .dataframe thead tr:only-child th {\n",
       "        text-align: right;\n",
       "    }\n",
       "\n",
       "    .dataframe thead th {\n",
       "        text-align: left;\n",
       "    }\n",
       "\n",
       "    .dataframe tbody tr th {\n",
       "        vertical-align: top;\n",
       "    }\n",
       "</style>\n",
       "<table border=\"1\" class=\"dataframe\">\n",
       "  <thead>\n",
       "    <tr style=\"text-align: right;\">\n",
       "      <th></th>\n",
       "      <th>Time</th>\n",
       "      <th>V1</th>\n",
       "      <th>V2</th>\n",
       "      <th>V3</th>\n",
       "      <th>V4</th>\n",
       "      <th>V5</th>\n",
       "      <th>V6</th>\n",
       "      <th>V7</th>\n",
       "      <th>V8</th>\n",
       "      <th>V9</th>\n",
       "      <th>V10</th>\n",
       "      <th>V11</th>\n",
       "      <th>V12</th>\n",
       "      <th>V13</th>\n",
       "      <th>V14</th>\n",
       "      <th>V15</th>\n",
       "      <th>V16</th>\n",
       "      <th>V17</th>\n",
       "      <th>V18</th>\n",
       "      <th>V19</th>\n",
       "      <th>V20</th>\n",
       "      <th>V21</th>\n",
       "      <th>V22</th>\n",
       "      <th>V23</th>\n",
       "      <th>V24</th>\n",
       "      <th>V25</th>\n",
       "      <th>V26</th>\n",
       "      <th>V27</th>\n",
       "      <th>V28</th>\n",
       "      <th>Amount</th>\n",
       "      <th>Class</th>\n",
       "    </tr>\n",
       "  </thead>\n",
       "  <tbody>\n",
       "    <tr>\n",
       "      <th>0</th>\n",
       "      <td>0.0</td>\n",
       "      <td>-1.359807</td>\n",
       "      <td>-0.072781</td>\n",
       "      <td>2.536347</td>\n",
       "      <td>1.378155</td>\n",
       "      <td>-0.338321</td>\n",
       "      <td>0.462388</td>\n",
       "      <td>0.239599</td>\n",
       "      <td>0.098698</td>\n",
       "      <td>0.363787</td>\n",
       "      <td>0.090794</td>\n",
       "      <td>-0.551600</td>\n",
       "      <td>-0.617801</td>\n",
       "      <td>-0.991390</td>\n",
       "      <td>-0.311169</td>\n",
       "      <td>1.468177</td>\n",
       "      <td>-0.470401</td>\n",
       "      <td>0.207971</td>\n",
       "      <td>0.025791</td>\n",
       "      <td>0.403993</td>\n",
       "      <td>0.251412</td>\n",
       "      <td>-0.018307</td>\n",
       "      <td>0.277838</td>\n",
       "      <td>-0.110474</td>\n",
       "      <td>0.066928</td>\n",
       "      <td>0.128539</td>\n",
       "      <td>-0.189115</td>\n",
       "      <td>0.133558</td>\n",
       "      <td>-0.021053</td>\n",
       "      <td>149.62</td>\n",
       "      <td>0</td>\n",
       "    </tr>\n",
       "    <tr>\n",
       "      <th>1</th>\n",
       "      <td>0.0</td>\n",
       "      <td>1.191857</td>\n",
       "      <td>0.266151</td>\n",
       "      <td>0.166480</td>\n",
       "      <td>0.448154</td>\n",
       "      <td>0.060018</td>\n",
       "      <td>-0.082361</td>\n",
       "      <td>-0.078803</td>\n",
       "      <td>0.085102</td>\n",
       "      <td>-0.255425</td>\n",
       "      <td>-0.166974</td>\n",
       "      <td>1.612727</td>\n",
       "      <td>1.065235</td>\n",
       "      <td>0.489095</td>\n",
       "      <td>-0.143772</td>\n",
       "      <td>0.635558</td>\n",
       "      <td>0.463917</td>\n",
       "      <td>-0.114805</td>\n",
       "      <td>-0.183361</td>\n",
       "      <td>-0.145783</td>\n",
       "      <td>-0.069083</td>\n",
       "      <td>-0.225775</td>\n",
       "      <td>-0.638672</td>\n",
       "      <td>0.101288</td>\n",
       "      <td>-0.339846</td>\n",
       "      <td>0.167170</td>\n",
       "      <td>0.125895</td>\n",
       "      <td>-0.008983</td>\n",
       "      <td>0.014724</td>\n",
       "      <td>2.69</td>\n",
       "      <td>0</td>\n",
       "    </tr>\n",
       "  </tbody>\n",
       "</table>\n",
       "</div>"
      ],
      "text/plain": [
       "   Time        V1        V2        V3        V4        V5        V6        V7  \\\n",
       "0   0.0 -1.359807 -0.072781  2.536347  1.378155 -0.338321  0.462388  0.239599   \n",
       "1   0.0  1.191857  0.266151  0.166480  0.448154  0.060018 -0.082361 -0.078803   \n",
       "\n",
       "         V8        V9       V10       V11       V12       V13       V14  \\\n",
       "0  0.098698  0.363787  0.090794 -0.551600 -0.617801 -0.991390 -0.311169   \n",
       "1  0.085102 -0.255425 -0.166974  1.612727  1.065235  0.489095 -0.143772   \n",
       "\n",
       "        V15       V16       V17       V18       V19       V20       V21  \\\n",
       "0  1.468177 -0.470401  0.207971  0.025791  0.403993  0.251412 -0.018307   \n",
       "1  0.635558  0.463917 -0.114805 -0.183361 -0.145783 -0.069083 -0.225775   \n",
       "\n",
       "        V22       V23       V24       V25       V26       V27       V28  \\\n",
       "0  0.277838 -0.110474  0.066928  0.128539 -0.189115  0.133558 -0.021053   \n",
       "1 -0.638672  0.101288 -0.339846  0.167170  0.125895 -0.008983  0.014724   \n",
       "\n",
       "   Amount  Class  \n",
       "0  149.62      0  \n",
       "1    2.69      0  "
      ]
     },
     "execution_count": 7,
     "metadata": {},
     "output_type": "execute_result"
    }
   ],
   "source": [
    "# read the input files and look at the top few lines #\n",
    "data_path = \"/Users/venkatasravankanukolanu/Documents/Data Files/credit_fraud/\"\n",
    "data_df= pd.read_csv(data_path+\"creditcard.csv\")\n",
    "data_df.head(2)"
   ]
  },
  {
   "cell_type": "markdown",
   "metadata": {},
   "source": [
    "Since all the features except Time and Amount are Principal Components, we will standardize Time and Amount."
   ]
  },
  {
   "cell_type": "code",
   "execution_count": 8,
   "metadata": {},
   "outputs": [
    {
     "data": {
      "text/html": [
       "<div>\n",
       "<style>\n",
       "    .dataframe thead tr:only-child th {\n",
       "        text-align: right;\n",
       "    }\n",
       "\n",
       "    .dataframe thead th {\n",
       "        text-align: left;\n",
       "    }\n",
       "\n",
       "    .dataframe tbody tr th {\n",
       "        vertical-align: top;\n",
       "    }\n",
       "</style>\n",
       "<table border=\"1\" class=\"dataframe\">\n",
       "  <thead>\n",
       "    <tr style=\"text-align: right;\">\n",
       "      <th></th>\n",
       "      <th>V1</th>\n",
       "      <th>V2</th>\n",
       "      <th>V3</th>\n",
       "      <th>V4</th>\n",
       "      <th>V5</th>\n",
       "      <th>V6</th>\n",
       "      <th>V7</th>\n",
       "      <th>V8</th>\n",
       "      <th>V9</th>\n",
       "      <th>V10</th>\n",
       "      <th>V11</th>\n",
       "      <th>V12</th>\n",
       "      <th>V13</th>\n",
       "      <th>V14</th>\n",
       "      <th>V15</th>\n",
       "      <th>V16</th>\n",
       "      <th>V17</th>\n",
       "      <th>V18</th>\n",
       "      <th>V19</th>\n",
       "      <th>V20</th>\n",
       "      <th>V21</th>\n",
       "      <th>V22</th>\n",
       "      <th>V23</th>\n",
       "      <th>V24</th>\n",
       "      <th>V25</th>\n",
       "      <th>V26</th>\n",
       "      <th>V27</th>\n",
       "      <th>V28</th>\n",
       "      <th>Class</th>\n",
       "      <th>std_amount</th>\n",
       "    </tr>\n",
       "  </thead>\n",
       "  <tbody>\n",
       "    <tr>\n",
       "      <th>0</th>\n",
       "      <td>-1.359807</td>\n",
       "      <td>-0.072781</td>\n",
       "      <td>2.536347</td>\n",
       "      <td>1.378155</td>\n",
       "      <td>-0.338321</td>\n",
       "      <td>0.462388</td>\n",
       "      <td>0.239599</td>\n",
       "      <td>0.098698</td>\n",
       "      <td>0.363787</td>\n",
       "      <td>0.090794</td>\n",
       "      <td>-0.551600</td>\n",
       "      <td>-0.617801</td>\n",
       "      <td>-0.991390</td>\n",
       "      <td>-0.311169</td>\n",
       "      <td>1.468177</td>\n",
       "      <td>-0.470401</td>\n",
       "      <td>0.207971</td>\n",
       "      <td>0.025791</td>\n",
       "      <td>0.403993</td>\n",
       "      <td>0.251412</td>\n",
       "      <td>-0.018307</td>\n",
       "      <td>0.277838</td>\n",
       "      <td>-0.110474</td>\n",
       "      <td>0.066928</td>\n",
       "      <td>0.128539</td>\n",
       "      <td>-0.189115</td>\n",
       "      <td>0.133558</td>\n",
       "      <td>-0.021053</td>\n",
       "      <td>0</td>\n",
       "      <td>0.244964</td>\n",
       "    </tr>\n",
       "    <tr>\n",
       "      <th>1</th>\n",
       "      <td>1.191857</td>\n",
       "      <td>0.266151</td>\n",
       "      <td>0.166480</td>\n",
       "      <td>0.448154</td>\n",
       "      <td>0.060018</td>\n",
       "      <td>-0.082361</td>\n",
       "      <td>-0.078803</td>\n",
       "      <td>0.085102</td>\n",
       "      <td>-0.255425</td>\n",
       "      <td>-0.166974</td>\n",
       "      <td>1.612727</td>\n",
       "      <td>1.065235</td>\n",
       "      <td>0.489095</td>\n",
       "      <td>-0.143772</td>\n",
       "      <td>0.635558</td>\n",
       "      <td>0.463917</td>\n",
       "      <td>-0.114805</td>\n",
       "      <td>-0.183361</td>\n",
       "      <td>-0.145783</td>\n",
       "      <td>-0.069083</td>\n",
       "      <td>-0.225775</td>\n",
       "      <td>-0.638672</td>\n",
       "      <td>0.101288</td>\n",
       "      <td>-0.339846</td>\n",
       "      <td>0.167170</td>\n",
       "      <td>0.125895</td>\n",
       "      <td>-0.008983</td>\n",
       "      <td>0.014724</td>\n",
       "      <td>0</td>\n",
       "      <td>-0.342475</td>\n",
       "    </tr>\n",
       "  </tbody>\n",
       "</table>\n",
       "</div>"
      ],
      "text/plain": [
       "         V1        V2        V3        V4        V5        V6        V7  \\\n",
       "0 -1.359807 -0.072781  2.536347  1.378155 -0.338321  0.462388  0.239599   \n",
       "1  1.191857  0.266151  0.166480  0.448154  0.060018 -0.082361 -0.078803   \n",
       "\n",
       "         V8        V9       V10       V11       V12       V13       V14  \\\n",
       "0  0.098698  0.363787  0.090794 -0.551600 -0.617801 -0.991390 -0.311169   \n",
       "1  0.085102 -0.255425 -0.166974  1.612727  1.065235  0.489095 -0.143772   \n",
       "\n",
       "        V15       V16       V17       V18       V19       V20       V21  \\\n",
       "0  1.468177 -0.470401  0.207971  0.025791  0.403993  0.251412 -0.018307   \n",
       "1  0.635558  0.463917 -0.114805 -0.183361 -0.145783 -0.069083 -0.225775   \n",
       "\n",
       "        V22       V23       V24       V25       V26       V27       V28  \\\n",
       "0  0.277838 -0.110474  0.066928  0.128539 -0.189115  0.133558 -0.021053   \n",
       "1 -0.638672  0.101288 -0.339846  0.167170  0.125895 -0.008983  0.014724   \n",
       "\n",
       "   Class  std_amount  \n",
       "0      0    0.244964  \n",
       "1      0   -0.342475  "
      ]
     },
     "execution_count": 8,
     "metadata": {},
     "output_type": "execute_result"
    }
   ],
   "source": [
    "data_df['std_amount'] = StandardScaler().fit_transform(data_df['Amount'].reshape(-1, 1))\n",
    "data_df= data_df.drop(['Time','Amount'],axis=1)\n",
    "data_df.head(2)"
   ]
  },
  {
   "cell_type": "markdown",
   "metadata": {},
   "source": [
    "Since V1 through V28 are principal compotents from PCA on the actual data, V1 through V28 are independent. This eliminates the problem of multicolinearity in the data. \n",
    "\n",
    "Since the data set meets the assumptions of Binary Logistic Regression Model i.e.\n",
    "\n",
    "1. The dependent variable is binary.\n",
    "2. The factor level 1 of the dependent variable represents the desired outcome i.e. fraud.\n",
    "3. The independent variables are independent of each other since they are principal components."
   ]
  },
  {
   "cell_type": "code",
   "execution_count": 9,
   "metadata": {
    "collapsed": true
   },
   "outputs": [],
   "source": [
    "response='Class'\n",
    "pred=data_df.columns[data_df.columns != 'Class']"
   ]
  },
  {
   "cell_type": "markdown",
   "metadata": {},
   "source": [
    "#### Split the data as test and train"
   ]
  },
  {
   "cell_type": "code",
   "execution_count": 10,
   "metadata": {
    "collapsed": true
   },
   "outputs": [],
   "source": [
    "df_train, df_test = train_test_split(data_df, test_size=0.1, random_state=2,stratify=data_df[response])"
   ]
  },
  {
   "cell_type": "markdown",
   "metadata": {},
   "source": [
    "### Variable Importance using RFE and Cross Validation"
   ]
  },
  {
   "cell_type": "markdown",
   "metadata": {},
   "source": [
    "We will find the optimal number of features to use in a Logistic Regression model and the list of features by using recursive feature elimination method along with 5-fold cross validation. "
   ]
  },
  {
   "cell_type": "code",
   "execution_count": 11,
   "metadata": {
    "collapsed": true
   },
   "outputs": [],
   "source": [
    "# Create the RFE object and compute a cross-validated score.\n",
    "# Scoring is based on Recall\n",
    "def rfe_cv(x_train_data,y_train_data):\n",
    "    rfecv = RFECV(estimator=LogisticRegression(), step=1, cv=5, scoring='recall')\n",
    "    rfecv.fit(x_train_data, y_train_data)\n",
    "    \n",
    "    selected_features=list(x_train_data.columns[rfecv.support_])\n",
    "    \n",
    "    print(\"Optimal number of features: %d\" % rfecv.n_features_)\n",
    "    print('Selected features: %s' % selected_features)\n",
    "\n",
    "    # Plot number of features VS. cross-validation scores\n",
    "    plt.figure(figsize=(10,6))\n",
    "    plt.xlabel(\"Number of features selected\")\n",
    "    plt.ylabel(\"Cross validation score (Recall)\")\n",
    "    plt.plot(range(1, len(rfecv.grid_scores_) + 1), rfecv.grid_scores_)\n",
    "    plt.show()\n",
    "    \n",
    "    return(selected_features)"
   ]
  },
  {
   "cell_type": "code",
   "execution_count": 13,
   "metadata": {},
   "outputs": [
    {
     "name": "stdout",
     "output_type": "stream",
     "text": [
      "Optimal number of features: 25\n",
      "Selected features: ['V1', 'V4', 'V5', 'V6', 'V7', 'V8', 'V9', 'V10', 'V12', 'V13', 'V14', 'V15', 'V16', 'V18', 'V19', 'V20', 'V21', 'V22', 'V23', 'V24', 'V25', 'V26', 'V27', 'V28', 'std_amount']\n"
     ]
    },
    {
     "data": {
      "image/png": "[encoded data removed]",
      "text/plain": [
       "<matplotlib.figure.Figure at 0x101159a10>"
      ]
     },
     "metadata": {},
     "output_type": "display_data"
    }
   ],
   "source": [
    "predictors=rfe_cv(df_train[pred], df_train[response])"
   ]
  },
  {
   "cell_type": "markdown",
   "metadata": {},
   "source": []
  },
  {
   "cell_type": "markdown",
   "metadata": {},
   "source": [
    "### Logistic Regression and Cross Validation"
   ]
  },
  {
   "cell_type": "markdown",
   "metadata": {},
   "source": [
    "We will training a logistic regression and test it on a validation set. For this we will define 2 functions:\n",
    "1. To train a Logit model and test it on a validation set\n",
    "2. To evaluate the Logit model using Stratified K-fold cross-validation"
   ]
  },
  {
   "cell_type": "code",
   "execution_count": 14,
   "metadata": {
    "collapsed": true
   },
   "outputs": [],
   "source": [
    "##Function for training models and testing on a test set. if plot is True, it plots a PRC curve for \n",
    "##training and test sets and finds the threshold where (precision*recall) is maximum.\n",
    "def logreg_fit(alg,dtrain,dtest,predictors,response,plot=True):\n",
    "    \n",
    "    #Fit the algorithm on the data\n",
    "    alg.fit(dtrain[predictors], dtrain[response])\n",
    "        \n",
    "    #Predict training set:\n",
    "    dtrain_pred = alg.predict(dtrain[predictors])\n",
    "    dtrain_predprob = alg.predict_proba(dtrain[predictors])[:,1]\n",
    "    \n",
    "    dtest_pred = alg.predict(dtest[predictors])\n",
    "    dtest_predprob = alg.predict_proba(dtest[predictors])[:,1]\n",
    "    \n",
    "    prf_train=precision_recall_fscore_support(dtrain[response], dtrain_pred,pos_label =1, average ='binary')\n",
    "    prf_test=precision_recall_fscore_support(dtest[response], dtest_pred,pos_label =1, average ='binary')\n",
    "    area_prc_test=average_precision_score(dtest[response], dtest_predprob,average=None)\n",
    "    area_prc_train=average_precision_score(dtrain[response], dtrain_predprob,average=None)\n",
    "    \n",
    "    \n",
    "    precision_train, recall_train, thr_train = precision_recall_curve(dtrain[response], dtrain_predprob,pos_label =1)\n",
    "    precision_test, recall_test, thr_test = precision_recall_curve(dtest[response],dtest_predprob,pos_label =1)\n",
    "    \n",
    "    #area, thr = ((precision_test)*(recall_test)), thr_test\n",
    "    #idx= np.argmax(area)\n",
    "    \n",
    "    \n",
    "    print \"Model report on training data:\"\n",
    "    print \"Train: Precision: %.4g\" % (prf_train[0]*100)\n",
    "    print \"Train: Recall : %.4g\" % (prf_train[1]*100)\n",
    "    print \"Average Precision (Train): %f\" % (area_prc_train*100)\n",
    "    print \"\\nModel report on test data:\"\n",
    "    print \"Test: Precision: %.4g\" % (prf_test[0]*100)\n",
    "    print \"Test: Recall : %.4g\" % (prf_test[1]*100)\n",
    "    print \"Average Precision (Trest): %f\" % (area_prc_test*100)\n",
    "\n",
    "    if plot:\n",
    "        plt.figure(figsize=(10,6))\n",
    "        plt.plot(recall_test, precision_test, color='coral',label=' Test PR-Curve')\n",
    "        plt.plot(recall_train, precision_train, color='green',label=' Train PR-Curve')\n",
    "        plt.plot([0, 1], [0, 1], 'k--')\n",
    "        #plt.plot([0,recall_test[idx]], [precision_test[idx],precision_test[idx]], 'k--', color='blue')\n",
    "        #plt.plot([recall_test[idx],recall_test[idx]], [0,precision_test[idx]], 'k--', color='blue')\n",
    "        plt.xlim([0.0, 1.0])\n",
    "        plt.ylim([0.0, 1.05])\n",
    "        plt.xlabel('Recall', fontsize=14)\n",
    "        plt.ylabel('Precision', fontsize=14)\n",
    "        plt.title('Precision-Recall Curve')\n",
    "        plt.legend(loc=\"lower left\")\n",
    "        plt.show()"
   ]
  },
  {
   "cell_type": "code",
   "execution_count": 15,
   "metadata": {
    "collapsed": true
   },
   "outputs": [],
   "source": [
    "#Function for K-Fold Stratified Cross_validation of any model\n",
    "def cv_modelfit(alg,dtrain,predictors,response,cvfolds):\n",
    "\n",
    "    skf = StratifiedKFold(n_splits=cvfolds,random_state=2)\n",
    "    cv_results = np.zeros((cvfolds, 3))\n",
    "    for i, (train_index, test_index) in enumerate(skf.split(dtrain[predictors],dtrain[response])):\n",
    "        for j in range(0,3):\n",
    "            cvtrain=dtrain.iloc[train_index]\n",
    "            cvtest=dtrain.iloc[test_index]\n",
    "\n",
    "            #Fit the algorithm on the data\n",
    "            alg.fit(cvtrain[predictors], cvtrain[response])\n",
    "\n",
    "            #Predict training set:\n",
    "            dtrain_pred = alg.predict(cvtrain[predictors])\n",
    "            dtrain_predprob = alg.predict_proba(cvtrain[predictors])[:,1]\n",
    "\n",
    "            dtest_pred = alg.predict(cvtest[predictors])\n",
    "            dtest_predprob = alg.predict_proba(cvtest[predictors])[:,1]\n",
    "\n",
    "            prf_train=precision_recall_fscore_support(cvtrain[response], dtrain_pred,pos_label =1, average ='binary')\n",
    "            prf_test=precision_recall_fscore_support(cvtest[response], dtest_pred,pos_label =1, average ='binary')\n",
    "            area_prc_test=average_precision_score(cvtest[response], dtest_predprob,average=None)\n",
    "            area_prc_train=average_precision_score(cvtrain[response], dtrain_predprob,average=None)\n",
    "\n",
    "\n",
    "            cvr=[prf_test[0],prf_test[1],area_prc_test]\n",
    "            cv_results[i,j]=cvr[j]\n",
    "\n",
    "    print \"Mean CV Test Precision: %.4g\" % (cv_results[:,0].mean()*100)\n",
    "    print \"Mean CV Test Recall: %.4g\" % (cv_results[:,1].mean()*100)\n",
    "    print \"Std.Devation of CV Test Precision: %.4g\" % (cv_results[:,0].std()*100)\n",
    "    print \"Std.Devation of CV Test Recall: %.4g\" % (cv_results[:,1].std()*100)"
   ]
  },
  {
   "cell_type": "markdown",
   "metadata": {},
   "source": [
    "Split the training data set into training and validation data sets."
   ]
  },
  {
   "cell_type": "code",
   "execution_count": 16,
   "metadata": {
    "collapsed": true
   },
   "outputs": [],
   "source": [
    "train, test = train_test_split(df_train,test_size=0.1, random_state=2,stratify=df_train[response])"
   ]
  },
  {
   "cell_type": "markdown",
   "metadata": {},
   "source": [
    "#### Baseline Logistic Regression Model"
   ]
  },
  {
   "cell_type": "code",
   "execution_count": 17,
   "metadata": {
    "collapsed": true
   },
   "outputs": [],
   "source": [
    "logreg1 = LogisticRegression(penalty = 'l1', C=1,random_state = 2)"
   ]
  },
  {
   "cell_type": "code",
   "execution_count": 18,
   "metadata": {},
   "outputs": [
    {
     "name": "stdout",
     "output_type": "stream",
     "text": [
      "Model report on training data:\n",
      "Train: Precision: 87.5\n",
      "Train: Recall : 63.16\n",
      "Average Precision (Train): 76.728565\n",
      "\n",
      "Model report on test data:\n",
      "Test: Precision: 91.3\n",
      "Test: Recall : 47.73\n",
      "Average Precision (Trest): 69.393804\n"
     ]
    },
    {
     "data": {
      "image/png": "[encoded data removed]",
      "text/plain": [
       "<matplotlib.figure.Figure at 0x102fb44d0>"
      ]
     },
     "metadata": {},
     "output_type": "display_data"
    }
   ],
   "source": [
    "logreg_fit(logreg1,train,test,predictors,response,True)"
   ]
  },
  {
   "cell_type": "markdown",
   "metadata": {},
   "source": [
    "The baseline logistic regression model gave a Recall of 47.7% and Precision of 91.3% on a validation set. We actually need a model with higher recall value to be able to predict the fraud transactions accurately. Since the results from a validation set approach could have high variability, we will use 10-fold cross validation to evalidate the model accurately."
   ]
  },
  {
   "cell_type": "markdown",
   "metadata": {},
   "source": [
    "### Model evaluation with 10-Fold Cross Validation"
   ]
  },
  {
   "cell_type": "markdown",
   "metadata": {},
   "source": [
    "We will use 10-fold cross validation to accurately evaluate the model scores."
   ]
  },
  {
   "cell_type": "code",
   "execution_count": 19,
   "metadata": {},
   "outputs": [
    {
     "name": "stdout",
     "output_type": "stream",
     "text": [
      "Mean CV Test Precision: 87.55\n",
      "Mean CV Test Recall: 62.32\n",
      "Std.Devation of CV Test Precision: 4.782\n",
      "Std.Devation of CV Test Recall: 8.233\n"
     ]
    }
   ],
   "source": [
    "cv_modelfit(logreg1,df_train,predictors,response,10)"
   ]
  },
  {
   "cell_type": "markdown",
   "metadata": {},
   "source": [
    "Mean test recall from 10-fold cross validation is 62.3% and precision is 87.5%. This means the model accurately predicts fraud transactions as fraud 62.3% of the time and 87.5% of the predicted fraud transactions are actually fraud. <br>\n",
    "But we need a model that has high recall value as the cost of misclassifying fraud is higher for credit card companies. So we will try to balance the data by over-sampling the positive class using synthetic over-sampling methid SMOTE."
   ]
  },
  {
   "cell_type": "markdown",
   "metadata": {},
   "source": [
    "### Balancing by over-sampling minority class using SMOTE"
   ]
  },
  {
   "cell_type": "markdown",
   "metadata": {},
   "source": [
    "We will start by balancing the data set using SMOTE technique. First we will balance the data set by SMOTE and then apply logistic regression model on the balanced data set. <br>\n",
    "SMOTE technique should be applied only on the training data, after splitting the data set into training set and validation set. If we apply SMOTE before splitting the data, we would leak the information in validation set into the training set. We will define a function to balance the data and train a model."
   ]
  },
  {
   "cell_type": "code",
   "execution_count": 20,
   "metadata": {
    "collapsed": true
   },
   "outputs": [],
   "source": [
    "##Function for training models and testing on a test set. if plot is True, it plots a PRC curve for \n",
    "##training and test sets and finds the threshold where (precision*recall) is maximum.\n",
    "def logreg_smote(alg,sam_alg,data,predictors,response,plot=True):\n",
    "\n",
    "    dtrain, dtest = train_test_split(data, test_size=0.1, random_state=2,stratify=data[response])\n",
    "\n",
    "    \n",
    "    X_smt, y_smt=sam_alg.fit_sample(train[predictors],train[response])\n",
    "    X_smt=pd.DataFrame(X_smt)\n",
    "    columns=train[predictors].columns\n",
    "    X_smt.columns=columns\n",
    "\n",
    "    #Fit the algorithm on the data\n",
    "    alg.fit(X_smt[predictors], y_smt)\n",
    "\n",
    "    #Predict training set:\n",
    "    dtrain_pred = alg.predict(X_smt[predictors])\n",
    "    dtrain_predprob = alg.predict_proba(X_smt[predictors])[:,1]\n",
    "\n",
    "    #a=float(len(data[data[response]==1]))/float(len(data[response]))\n",
    "    #b=float(len(y_smt[y_smt==1]))/float(len(y_smt))\n",
    "    #k=(b/(1-b))*((1-a)/a)\n",
    "\n",
    "    dtest_pred = alg.predict(dtest[predictors])\n",
    "    dtest_predprob = alg.predict_proba(dtest[predictors])[:,1]#/k  \n",
    "\n",
    "    prf_train=precision_recall_fscore_support(y_smt, dtrain_pred,pos_label =1, average ='binary')\n",
    "    prf_test=precision_recall_fscore_support(dtest[response], dtest_pred,pos_label =1, average ='binary')\n",
    "    area_prc_test=average_precision_score(dtest[response], dtest_predprob,average=None)\n",
    "    area_prc_train=average_precision_score(y_smt, dtrain_predprob,average=None)\n",
    "\n",
    "\n",
    "    precision_train, recall_train, thr_train = precision_recall_curve(y_smt, dtrain_predprob,pos_label =1)\n",
    "    precision_test, recall_test, thr_test = precision_recall_curve(dtest[response],dtest_predprob,pos_label =1)\n",
    "\n",
    "    #area, thr = ((precision_test)*(recall_test)), thr_test\n",
    "    #idx= np.argmax(area)\n",
    "    \n",
    "    print \"Model report on training data:\"\n",
    "    print \"Train: Precision: %.4g\" % (prf_train[0]*100)\n",
    "    print \"Train: Recall : %.4g\" % (prf_train[1]*100)\n",
    "    print \"Average Precision (Train): %f\" % (area_prc_train*100)\n",
    "    print \"\\nModel report on test data:\"\n",
    "    print \"Test: Precision: %.4g\" % (prf_test[0]*100)\n",
    "    print \"Test: Recall : %.4g\" % (prf_test[1]*100)\n",
    "    print \"Average Precision (Trest): %f\" % (area_prc_test*100)\n",
    "\n",
    "    \n",
    "    if plot:\n",
    "\n",
    "        plt.figure(figsize=(10,6))\n",
    "        plt.plot(recall_test, precision_test, color='coral',label=' Test PR-Curve')\n",
    "        plt.plot(recall_train, precision_train, color='green',label=' Train PR-Curve')\n",
    "        plt.plot([0, 1], [0, 1], 'k--')\n",
    "        #plt.plot([0,recall_test[idx]], [precision_test[idx],precision_test[idx]], 'k--', color='blue')\n",
    "        #plt.plot([recall_test[idx],recall_test[idx]], [0,precision_test[idx]], 'k--', color='blue')\n",
    "        plt.xlim([0.0, 1.0])\n",
    "        plt.ylim([0.0, 1.05])\n",
    "        plt.xlabel('Recall', fontsize=14)\n",
    "        plt.ylabel('Precision', fontsize=14)\n",
    "        plt.title('Precision-Recall Curve')\n",
    "        plt.legend(loc=\"lower left\")\n",
    "        plt.show()"
   ]
  },
  {
   "cell_type": "markdown",
   "metadata": {},
   "source": [
    "We will over-sample the positive class to an equivalent number as the negative class using SMOTE and use the balanced training data to train a logit model. But we will test the model on a unbalanced validation set."
   ]
  },
  {
   "cell_type": "code",
   "execution_count": 21,
   "metadata": {
    "collapsed": true
   },
   "outputs": [],
   "source": [
    "sampling1=SMOTE(ratio=1.0, random_state=2, k=None, k_neighbors=5, \n",
    "          m=None, m_neighbors=10, out_step=0.5, kind='regular', svm_estimator=None, n_jobs=-1)"
   ]
  },
  {
   "cell_type": "code",
   "execution_count": 22,
   "metadata": {},
   "outputs": [
    {
     "name": "stdout",
     "output_type": "stream",
     "text": [
      "Model report on training data:\n",
      "Train: Precision: 97.04\n",
      "Train: Recall : 91.97\n",
      "Average Precision (Train): 98.988621\n",
      "\n",
      "Model report on test data:\n",
      "Test: Precision: 4.961\n",
      "Test: Recall : 86.36\n",
      "Average Precision (Trest): 65.054796\n"
     ]
    },
    {
     "data": {
      "image/png": "[encoded data removed]",
      "text/plain": [
       "<matplotlib.figure.Figure at 0x10a558a10>"
      ]
     },
     "metadata": {},
     "output_type": "display_data"
    }
   ],
   "source": [
    "logreg_smote(logreg1,sampling1,df_train,predictors,response,plot=True)"
   ]
  },
  {
   "cell_type": "markdown",
   "metadata": {},
   "source": [
    "Over-sampling the minority class improved the recall from 62.3% to 86.3% but the precision decreased from 87.5% to 4.9%. We will try to find the optimal ratio for over-sampling the minority class so that we get decent balance between recall and precision. <br>\n",
    "We will define a function that trains a model on the balanced data with a given ratio of minority over-sampling and gives the test precision and recall on a validation set."
   ]
  },
  {
   "cell_type": "code",
   "execution_count": 23,
   "metadata": {
    "collapsed": true
   },
   "outputs": [],
   "source": [
    "def smote_eval(alg,data,predictors,response,r):\n",
    "\n",
    "    dtrain, dtest = train_test_split(data, test_size=0.1, random_state=2,stratify=data[response])\n",
    "\n",
    "    smt=SMOTE(ratio=r, random_state=2, k=None, k_neighbors=5, \n",
    "          m=None, m_neighbors=10, out_step=0.5, kind='regular', svm_estimator=None, n_jobs=2)\n",
    "    X_smt, y_smt=smt.fit_sample(train[predictors],train[response])\n",
    "    X_smt=pd.DataFrame(X_smt)\n",
    "    columns=train[predictors].columns\n",
    "    X_smt.columns=columns\n",
    "\n",
    "    #Fit the algorithm on the data\n",
    "    alg.fit(X_smt[predictors], y_smt)\n",
    "            \n",
    "    dtest_pred = alg.predict(dtest[predictors])\n",
    "    dtest_predprob = alg.predict_proba(dtest[predictors])[:,1]#/k  \n",
    "\n",
    "    prf_test=precision_recall_fscore_support(dtest[response], dtest_pred,pos_label =1, average ='binary')\n",
    "    #area_prc_test=average_precision_score(dtest[response], dtest_predprob,average=None)  \n",
    "    return(prf_test[0],prf_test[1])"
   ]
  },
  {
   "cell_type": "code",
   "execution_count": 24,
   "metadata": {},
   "outputs": [],
   "source": [
    "smt_ratio = np.zeros((10, 3))\n",
    "for i in range(0,10,1):\n",
    "    for j in range(0,3,1):\n",
    "        temp=np.append(smote_eval(logreg1,df_train,predictors,response,float(i+1)/float(10)),float(i+1)/float(10))\n",
    "        smt_ratio[i,j]=temp[j]"
   ]
  },
  {
   "cell_type": "code",
   "execution_count": 25,
   "metadata": {},
   "outputs": [
    {
     "data": {
      "text/html": [
       "<div>\n",
       "<style>\n",
       "    .dataframe thead tr:only-child th {\n",
       "        text-align: right;\n",
       "    }\n",
       "\n",
       "    .dataframe thead th {\n",
       "        text-align: left;\n",
       "    }\n",
       "\n",
       "    .dataframe tbody tr th {\n",
       "        vertical-align: top;\n",
       "    }\n",
       "</style>\n",
       "<table border=\"1\" class=\"dataframe\">\n",
       "  <thead>\n",
       "    <tr style=\"text-align: right;\">\n",
       "      <th></th>\n",
       "      <th>Precision</th>\n",
       "      <th>Recall</th>\n",
       "      <th>Ratio</th>\n",
       "    </tr>\n",
       "  </thead>\n",
       "  <tbody>\n",
       "    <tr>\n",
       "      <th>0</th>\n",
       "      <td>0.421687</td>\n",
       "      <td>0.795455</td>\n",
       "      <td>0.1</td>\n",
       "    </tr>\n",
       "    <tr>\n",
       "      <th>1</th>\n",
       "      <td>0.218750</td>\n",
       "      <td>0.795455</td>\n",
       "      <td>0.2</td>\n",
       "    </tr>\n",
       "    <tr>\n",
       "      <th>2</th>\n",
       "      <td>0.152174</td>\n",
       "      <td>0.795455</td>\n",
       "      <td>0.3</td>\n",
       "    </tr>\n",
       "    <tr>\n",
       "      <th>3</th>\n",
       "      <td>0.120000</td>\n",
       "      <td>0.818182</td>\n",
       "      <td>0.4</td>\n",
       "    </tr>\n",
       "    <tr>\n",
       "      <th>4</th>\n",
       "      <td>0.103064</td>\n",
       "      <td>0.840909</td>\n",
       "      <td>0.5</td>\n",
       "    </tr>\n",
       "    <tr>\n",
       "      <th>5</th>\n",
       "      <td>0.084821</td>\n",
       "      <td>0.863636</td>\n",
       "      <td>0.6</td>\n",
       "    </tr>\n",
       "    <tr>\n",
       "      <th>6</th>\n",
       "      <td>0.071161</td>\n",
       "      <td>0.863636</td>\n",
       "      <td>0.7</td>\n",
       "    </tr>\n",
       "    <tr>\n",
       "      <th>7</th>\n",
       "      <td>0.063123</td>\n",
       "      <td>0.863636</td>\n",
       "      <td>0.8</td>\n",
       "    </tr>\n",
       "    <tr>\n",
       "      <th>8</th>\n",
       "      <td>0.055233</td>\n",
       "      <td>0.863636</td>\n",
       "      <td>0.9</td>\n",
       "    </tr>\n",
       "    <tr>\n",
       "      <th>9</th>\n",
       "      <td>0.049608</td>\n",
       "      <td>0.863636</td>\n",
       "      <td>1.0</td>\n",
       "    </tr>\n",
       "  </tbody>\n",
       "</table>\n",
       "</div>"
      ],
      "text/plain": [
       "   Precision    Recall  Ratio\n",
       "0   0.421687  0.795455    0.1\n",
       "1   0.218750  0.795455    0.2\n",
       "2   0.152174  0.795455    0.3\n",
       "3   0.120000  0.818182    0.4\n",
       "4   0.103064  0.840909    0.5\n",
       "5   0.084821  0.863636    0.6\n",
       "6   0.071161  0.863636    0.7\n",
       "7   0.063123  0.863636    0.8\n",
       "8   0.055233  0.863636    0.9\n",
       "9   0.049608  0.863636    1.0"
      ]
     },
     "execution_count": 25,
     "metadata": {},
     "output_type": "execute_result"
    }
   ],
   "source": [
    "smt_ratio=pd.DataFrame(smt_ratio)\n",
    "smt_ratio.columns=['Precision','Recall','Ratio']\n",
    "smt_ratio"
   ]
  },
  {
   "cell_type": "markdown",
   "metadata": {},
   "source": [
    "Though higher recall value is important for us but we want to get a decent balance between precision and recall as well in solving this problem. <br>\n",
    "**Note: Depending on what the business goal is, we can adjust this parameter but an important point to keep in mind is that improvement in recall comes at the cost of precision.**"
   ]
  },
  {
   "cell_type": "code",
   "execution_count": 26,
   "metadata": {
    "collapsed": true
   },
   "outputs": [],
   "source": [
    "sampling2=SMOTE(ratio=0.1, random_state=2, k=None, k_neighbors=5, \n",
    "          m=None, m_neighbors=10, out_step=0.5, kind='regular', svm_estimator=None, n_jobs=-1)"
   ]
  },
  {
   "cell_type": "code",
   "execution_count": 27,
   "metadata": {},
   "outputs": [
    {
     "name": "stdout",
     "output_type": "stream",
     "text": [
      "Model report on training data:\n",
      "Train: Precision: 98.08\n",
      "Train: Recall : 86.31\n",
      "Average Precision (Train): 94.874914\n",
      "\n",
      "Model report on test data:\n",
      "Test: Precision: 42.17\n",
      "Test: Recall : 79.55\n",
      "Average Precision (Trest): 70.917751\n"
     ]
    },
    {
     "data": {
      "image/png": "[encoded data removed]",
      "text/plain": [
       "<matplotlib.figure.Figure at 0x110911890>"
      ]
     },
     "metadata": {},
     "output_type": "display_data"
    }
   ],
   "source": [
    "logreg_smote(logreg1,sampling2,df_train,predictors,response,plot=True)"
   ]
  },
  {
   "cell_type": "markdown",
   "metadata": {},
   "source": [
    "### Model Evaluation using 10-fold Cross Validation"
   ]
  },
  {
   "cell_type": "code",
   "execution_count": 28,
   "metadata": {
    "collapsed": true
   },
   "outputs": [],
   "source": [
    "#Function for K-Fold Stratified Cross_validation of any model\n",
    "def cv_smotemodel(alg,sam_alg,dtrain,predictors,response,cvfolds):\n",
    "\n",
    "    skf = StratifiedKFold(n_splits=cvfolds,random_state=2)\n",
    "    cv_results = np.zeros((cvfolds, 3))\n",
    "    for i, (train_index, test_index) in enumerate(skf.split(dtrain[predictors],dtrain[response])):\n",
    "        for j in range(0,3):\n",
    "            cvtrain=dtrain.iloc[train_index]\n",
    "            cvtest=dtrain.iloc[test_index]\n",
    "            \n",
    "            X_smt, y_smt=sam_alg.fit_sample(cvtrain[predictors], cvtrain[response])\n",
    "            X_smt=pd.DataFrame(X_smt)\n",
    "            columns=train[predictors].columns\n",
    "            X_smt.columns=columns\n",
    "            \n",
    "\n",
    "            #Fit the algorithm on the data\n",
    "            alg.fit(X_smt[predictors], y_smt)\n",
    "\n",
    "            #Predict training set:\n",
    "            dtrain_pred = alg.predict(X_smt[predictors])\n",
    "            dtrain_predprob = alg.predict_proba(X_smt[predictors])[:,1]\n",
    "\n",
    "            dtest_pred = alg.predict(cvtest[predictors])\n",
    "            dtest_predprob = alg.predict_proba(cvtest[predictors])[:,1]\n",
    "\n",
    "            prf_train=precision_recall_fscore_support(y_smt, dtrain_pred,pos_label =1, average ='binary')\n",
    "            prf_test=precision_recall_fscore_support(cvtest[response], dtest_pred,pos_label =1, average ='binary')\n",
    "            area_prc_test=average_precision_score(cvtest[response], dtest_predprob,average=None)\n",
    "            area_prc_train=average_precision_score(y_smt, dtrain_predprob,average=None)\n",
    "\n",
    "\n",
    "            cvr=[prf_test[0],prf_test[1],area_prc_test]\n",
    "            cv_results[i,j]=cvr[j]\n",
    "\n",
    "    print \"Mean CV Test Precision: %.4g\" % (cv_results[:,0].mean()*100)\n",
    "    print \"Mean CV Test Recall: %.4g\" % (cv_results[:,1].mean()*100)\n",
    "    print \"Std.Devation of CV Test Precision: %.4g\" % (cv_results[:,0].std()*100)\n",
    "    print \"Std.Devation of CV Test Recall: %.4g\" % (cv_results[:,1].std()*100)"
   ]
  },
  {
   "cell_type": "code",
   "execution_count": 29,
   "metadata": {},
   "outputs": [
    {
     "name": "stdout",
     "output_type": "stream",
     "text": [
      "Mean CV Test Precision: 43.47\n",
      "Mean CV Test Recall: 85.53\n",
      "Std.Devation of CV Test Precision: 4.885\n",
      "Std.Devation of CV Test Recall: 5.895\n"
     ]
    }
   ],
   "source": [
    "cv_smotemodel(logreg1,sampling2,df_train,predictors,response,10)"
   ]
  },
  {
   "cell_type": "markdown",
   "metadata": {},
   "source": [
    "Mean test recall from 10-fold cross validation is 85.5% and precision is 43.4%. This means the model accurately predicts fraud transactions as fraud 85.5% of the time and 43.4% of the predicted fraud transactions are actually fraud. This is a good recall and decent precision for a model to detect minority class samples in a unbalanced data set. <br>\n",
    "We might be able to further improve the model by tuning the hyperparameters _penalty_ and _C_ in the logit model."
   ]
  },
  {
   "cell_type": "markdown",
   "metadata": {},
   "source": [
    "### Hyperparameter Tuning using GridSearch+CV"
   ]
  },
  {
   "cell_type": "markdown",
   "metadata": {},
   "source": [
    "We will tune both the hyperparameters i.e. penalty and C using GridSearch on a range of values and cross validation. We will define a function for grid search and cross validation."
   ]
  },
  {
   "cell_type": "code",
   "execution_count": 30,
   "metadata": {
    "collapsed": true
   },
   "outputs": [],
   "source": [
    "def grid_tune(param_test,scores):\n",
    "    \n",
    "    for score in scores:\n",
    "        print(\"# Tuning hyper-parameters for %s\" % score)\n",
    "        print\n",
    "\n",
    "        clf = GridSearchCV(LogisticRegression(penalty = 'l1', C=1,random_state = 2), param_test, cv=5,\n",
    "                           scoring=score)\n",
    "        smt=SMOTE(ratio=0.1, random_state=2, k=None, k_neighbors=5, \n",
    "          m=None, m_neighbors=10, out_step=0.5, kind='regular', svm_estimator=None, n_jobs=2)\n",
    "        X_smt, y_smt=smt.fit_sample(train[predictors],train[response])\n",
    "        X_smt=pd.DataFrame(X_smt)\n",
    "        columns=train[predictors].columns\n",
    "        X_smt.columns=columns\n",
    "        \n",
    "        clf.fit(X_smt[predictors], y_smt)\n",
    "\n",
    "        print(\"Best parameters set found on development set:\")\n",
    "        print\n",
    "        print(clf.best_params_,clf.best_score_)\n",
    "        print\n",
    "        print(\"Grid scores on development set:\")\n",
    "        print\n",
    "        means = clf.cv_results_['mean_test_score']\n",
    "        stds = clf.cv_results_['std_test_score']\n",
    "        for mean, std, params in zip(means, stds, clf.cv_results_['params']):\n",
    "            print(\"%0.3f (+/-%0.03f) for %r\"\n",
    "                  % (mean, std * 2, params))"
   ]
  },
  {
   "cell_type": "markdown",
   "metadata": {},
   "source": [
    "Since we don't know the exact range of values to search for C, let is start with a set of values to narrow down the range and then search for optimal value within that range in the next step."
   ]
  },
  {
   "cell_type": "code",
   "execution_count": 32,
   "metadata": {},
   "outputs": [
    {
     "name": "stdout",
     "output_type": "stream",
     "text": [
      "# Tuning hyper-parameters for recall\n",
      "\n",
      "Best parameters set found on development set:\n",
      "\n",
      "({'penalty': 'l1', 'C': 1}, 0.8630858018057959)\n",
      "\n",
      "Grid scores on development set:\n",
      "\n",
      "0.853 (+/-0.005) for {'penalty': 'l1', 'C': 0.001}\n",
      "0.856 (+/-0.006) for {'penalty': 'l2', 'C': 0.001}\n",
      "0.862 (+/-0.007) for {'penalty': 'l1', 'C': 0.01}\n",
      "0.862 (+/-0.007) for {'penalty': 'l2', 'C': 0.01}\n",
      "0.863 (+/-0.007) for {'penalty': 'l1', 'C': 0.1}\n",
      "0.863 (+/-0.007) for {'penalty': 'l2', 'C': 0.1}\n",
      "0.863 (+/-0.007) for {'penalty': 'l1', 'C': 1}\n",
      "0.863 (+/-0.007) for {'penalty': 'l2', 'C': 1}\n",
      "0.863 (+/-0.007) for {'penalty': 'l1', 'C': 10}\n",
      "0.863 (+/-0.007) for {'penalty': 'l2', 'C': 10}\n",
      "0.863 (+/-0.007) for {'penalty': 'l1', 'C': 100}\n",
      "0.863 (+/-0.007) for {'penalty': 'l2', 'C': 100}\n",
      "# Tuning hyper-parameters for precision\n",
      "\n",
      "Best parameters set found on development set:\n",
      "\n",
      "({'penalty': 'l2', 'C': 0.001}, 0.9901092139829796)\n",
      "\n",
      "Grid scores on development set:\n",
      "\n",
      "0.988 (+/-0.002) for {'penalty': 'l1', 'C': 0.001}\n",
      "0.990 (+/-0.001) for {'penalty': 'l2', 'C': 0.001}\n",
      "0.983 (+/-0.003) for {'penalty': 'l1', 'C': 0.01}\n",
      "0.984 (+/-0.003) for {'penalty': 'l2', 'C': 0.01}\n",
      "0.981 (+/-0.003) for {'penalty': 'l1', 'C': 0.1}\n",
      "0.981 (+/-0.003) for {'penalty': 'l2', 'C': 0.1}\n",
      "0.981 (+/-0.003) for {'penalty': 'l1', 'C': 1}\n",
      "0.981 (+/-0.003) for {'penalty': 'l2', 'C': 1}\n",
      "0.981 (+/-0.003) for {'penalty': 'l1', 'C': 10}\n",
      "0.981 (+/-0.003) for {'penalty': 'l2', 'C': 10}\n",
      "0.981 (+/-0.003) for {'penalty': 'l1', 'C': 100}\n",
      "0.981 (+/-0.003) for {'penalty': 'l2', 'C': 100}\n"
     ]
    }
   ],
   "source": [
    "# Set to n_estimators to the tuned values from cross-validation\n",
    "scores1 = ['recall','precision']\n",
    "param_test1 = {\n",
    " 'penalty':['l1','l2'],\n",
    " 'C':[0.001, 0.01, 0.1, 1, 10, 100]\n",
    "}\n",
    "grid_tune(param_test1,scores1)"
   ]
  },
  {
   "cell_type": "code",
   "execution_count": 37,
   "metadata": {},
   "outputs": [
    {
     "name": "stdout",
     "output_type": "stream",
     "text": [
      "# Tuning hyper-parameters for recall\n",
      "\n",
      "Best parameters set found on development set:\n",
      "\n",
      "({'penalty': 'l1', 'C': 0.06}, 0.8629555359054407)\n",
      "\n",
      "Grid scores on development set:\n",
      "\n",
      "0.862 (+/-0.007) for {'penalty': 'l1', 'C': 0.01}\n",
      "0.862 (+/-0.007) for {'penalty': 'l2', 'C': 0.01}\n",
      "0.862 (+/-0.006) for {'penalty': 'l1', 'C': 0.02}\n",
      "0.862 (+/-0.006) for {'penalty': 'l2', 'C': 0.02}\n",
      "0.863 (+/-0.007) for {'penalty': 'l1', 'C': 0.03}\n",
      "0.863 (+/-0.007) for {'penalty': 'l2', 'C': 0.03}\n",
      "0.863 (+/-0.007) for {'penalty': 'l1', 'C': 0.04}\n",
      "0.863 (+/-0.007) for {'penalty': 'l2', 'C': 0.04}\n",
      "0.863 (+/-0.007) for {'penalty': 'l1', 'C': 0.05}\n",
      "0.863 (+/-0.007) for {'penalty': 'l2', 'C': 0.05}\n",
      "0.863 (+/-0.007) for {'penalty': 'l1', 'C': 0.06}\n",
      "0.863 (+/-0.007) for {'penalty': 'l2', 'C': 0.06}\n",
      "0.863 (+/-0.007) for {'penalty': 'l1', 'C': 0.07}\n",
      "0.863 (+/-0.007) for {'penalty': 'l2', 'C': 0.07}\n",
      "0.863 (+/-0.007) for {'penalty': 'l1', 'C': 0.08}\n",
      "0.863 (+/-0.007) for {'penalty': 'l2', 'C': 0.08}\n",
      "0.863 (+/-0.007) for {'penalty': 'l1', 'C': 0.09}\n",
      "0.863 (+/-0.007) for {'penalty': 'l2', 'C': 0.09}\n",
      "# Tuning hyper-parameters for precision\n",
      "\n",
      "Best parameters set found on development set:\n",
      "\n",
      "({'penalty': 'l2', 'C': 0.01}, 0.9844248450967839)\n",
      "\n",
      "Grid scores on development set:\n",
      "\n",
      "0.983 (+/-0.003) for {'penalty': 'l1', 'C': 0.01}\n",
      "0.984 (+/-0.003) for {'penalty': 'l2', 'C': 0.01}\n",
      "0.983 (+/-0.002) for {'penalty': 'l1', 'C': 0.02}\n",
      "0.983 (+/-0.002) for {'penalty': 'l2', 'C': 0.02}\n",
      "0.982 (+/-0.002) for {'penalty': 'l1', 'C': 0.03}\n",
      "0.982 (+/-0.003) for {'penalty': 'l2', 'C': 0.03}\n",
      "0.982 (+/-0.002) for {'penalty': 'l1', 'C': 0.04}\n",
      "0.982 (+/-0.003) for {'penalty': 'l2', 'C': 0.04}\n",
      "0.982 (+/-0.002) for {'penalty': 'l1', 'C': 0.05}\n",
      "0.982 (+/-0.003) for {'penalty': 'l2', 'C': 0.05}\n",
      "0.981 (+/-0.003) for {'penalty': 'l1', 'C': 0.06}\n",
      "0.982 (+/-0.003) for {'penalty': 'l2', 'C': 0.06}\n",
      "0.981 (+/-0.003) for {'penalty': 'l1', 'C': 0.07}\n",
      "0.982 (+/-0.003) for {'penalty': 'l2', 'C': 0.07}\n",
      "0.981 (+/-0.003) for {'penalty': 'l1', 'C': 0.08}\n",
      "0.982 (+/-0.003) for {'penalty': 'l2', 'C': 0.08}\n",
      "0.981 (+/-0.003) for {'penalty': 'l1', 'C': 0.09}\n",
      "0.981 (+/-0.003) for {'penalty': 'l2', 'C': 0.09}\n"
     ]
    }
   ],
   "source": [
    "# Set to n_estimators to the tuned values from cross-validation\n",
    "scores1 = ['recall','precision']\n",
    "param_test2 = {\n",
    " 'penalty':['l1','l2'],\n",
    " 'C':[i/100.0 for i in range(1,10)]\n",
    "}\n",
    "grid_tune(param_test2,scores1)"
   ]
  },
  {
   "cell_type": "markdown",
   "metadata": {},
   "source": [
    "We can fix to 0.06 as the optimal value of hyperparameter _C_ using _l1_ regularization."
   ]
  },
  {
   "cell_type": "markdown",
   "metadata": {},
   "source": [
    "### Training and Testing the final model"
   ]
  },
  {
   "cell_type": "markdown",
   "metadata": {},
   "source": [
    "We will define a function to compute and plot the confusion matrix on the test data set. We will train the final model on the entire training data set and predict the results on the test set."
   ]
  },
  {
   "cell_type": "code",
   "execution_count": 38,
   "metadata": {
    "collapsed": true
   },
   "outputs": [],
   "source": [
    "def plot_confusion_matrix(cm, classes,\n",
    "                          normalize=False,\n",
    "                          title='Confusion matrix',\n",
    "                          cmap=plt.cm.Blues):\n",
    "    \"\"\"\n",
    "    This function prints and plots the confusion matrix.\n",
    "    Normalization can be applied by setting `normalize=True`.\n",
    "    \"\"\"\n",
    "    if normalize:\n",
    "        cm = cm.astype('float') / cm.sum(axis=1)[:, np.newaxis]\n",
    "        print(\"Normalized confusion matrix\")\n",
    "    else:\n",
    "        print('Confusion matrix, without normalization')\n",
    "\n",
    "    #print(cm)\n",
    "\n",
    "    plt.imshow(cm, interpolation='nearest', cmap=cmap)\n",
    "    plt.title(title)\n",
    "    plt.colorbar()\n",
    "    tick_marks = np.arange(len(classes))\n",
    "    plt.xticks(tick_marks, classes, rotation=45)\n",
    "    plt.yticks(tick_marks, classes)\n",
    "\n",
    "    fmt = '.2f' if normalize else 'd'\n",
    "    thresh = cm.max() / 2.\n",
    "    for i, j in itertools.product(range(cm.shape[0]), range(cm.shape[1])):\n",
    "        plt.text(j, i, format(cm[i, j], fmt),\n",
    "                 horizontalalignment=\"center\",\n",
    "                 color=\"white\" if cm[i, j] > thresh else \"black\")\n",
    "\n",
    "    plt.tight_layout()\n",
    "    plt.ylabel('True label')\n",
    "    plt.xlabel('Predicted label')"
   ]
  },
  {
   "cell_type": "code",
   "execution_count": 52,
   "metadata": {},
   "outputs": [
    {
     "name": "stdout",
     "output_type": "stream",
     "text": [
      "Test Recall:  87.76\n",
      "Test Precision:  43.43\n",
      "\n",
      "Confusion matrix, without normalization\n"
     ]
    },
    {
     "data": {
      "image/png": "[encoded data removed]",
      "text/plain": [
       "<matplotlib.figure.Figure at 0x10b4abcd0>"
      ]
     },
     "metadata": {},
     "output_type": "display_data"
    }
   ],
   "source": [
    "sampling2=SMOTE(ratio=0.1, random_state=2, k=None, k_neighbors=5, \n",
    "      m=None, m_neighbors=10, out_step=0.5, kind='regular', svm_estimator=None, n_jobs=2)\n",
    "\n",
    "X_smt, y_smt=sampling2.fit_sample(df_train[predictors],df_train[response])\n",
    "X_smt=pd.DataFrame(X_smt)\n",
    "columns=df_train[predictors].columns\n",
    "X_smt.columns=columns\n",
    "\n",
    "#Fit the algorithm on the data\n",
    "alg = LogisticRegression(penalty = 'l1', C=0.06,random_state = 2)\n",
    "alg.fit(X_smt[predictors], y_smt)\n",
    "\n",
    "#Predict test set:\n",
    "dtest_pred = alg.predict(df_test[predictors])\n",
    "dtest_predprob = alg.predict_proba(df_test[predictors])[:,1]\n",
    "\n",
    "\n",
    "prf_test=precision_recall_fscore_support(df_test[response], dtest_pred,pos_label =1, average ='binary')\n",
    "area_prc_test=average_precision_score(df_test[response], dtest_predprob,average=None)\n",
    "\n",
    "# Compute confusion matrix\n",
    "cnf_matrix = confusion_matrix(df_test[response],dtest_pred)\n",
    "#np.set_printoptions(precision=2)\n",
    "\n",
    "print \"Test Recall: \",round((prf_test[1]*100),2)\n",
    "print \"Test Precision: \",round((prf_test[0]*100),2)\n",
    "print\n",
    "\n",
    "# Plot non-normalized confusion matrix\n",
    "class_names = [0,1]\n",
    "plt.figure(figsize=(7,5))\n",
    "plot_confusion_matrix(cnf_matrix\n",
    "                      , classes=class_names\n",
    "                      , title='Confusion matrix')\n",
    "plt.show()"
   ]
  },
  {
   "cell_type": "markdown",
   "metadata": {
    "collapsed": true
   },
   "source": [
    "We acheived a recall value of 87.76% and a precision of 43.43% on the test set. This is a very decent prediction power on a unbalanced data set using Logistic Regression. Using tree based algorithms like Random Forestes and Xgboost on the data set could further improve the predictions as those algorithms can model complex interactions between the features but that comes at the cost of loss of interpretability. "
   ]
  }
 ],
 "metadata": {
  "kernelspec": {
   "display_name": "Python 2",
   "language": "python",
   "name": "python2"
  },
  "language_info": {
   "codemirror_mode": {
    "name": "ipython",
    "version": 2
   },
   "file_extension": ".py",
   "mimetype": "text/x-python",
   "name": "python",
   "nbconvert_exporter": "python",
   "pygments_lexer": "ipython2",
   "version": "2.7.14"
  }
 },
 "nbformat": 4,
 "nbformat_minor": 2
}
