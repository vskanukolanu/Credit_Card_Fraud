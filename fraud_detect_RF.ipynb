{
 "cells": [
  {
   "cell_type": "code",
   "execution_count": 2,
   "metadata": {},
   "outputs": [
    {
     "name": "stderr",
     "output_type": "stream",
     "text": [
      "/Users/venkatasravankanukolanu/anaconda2/lib/python2.7/site-packages/sklearn/cross_validation.py:41: DeprecationWarning: This module was deprecated in version 0.18 in favor of the model_selection module into which all the refactored classes and functions are moved. Also note that the interface of the new CV iterators are different from that of this module. This module will be removed in 0.20.\n",
      "  \"This module will be removed in 0.20.\", DeprecationWarning)\n"
     ]
    }
   ],
   "source": [
    "from IPython import get_ipython\n",
    "get_ipython().magic('reset -sf') \n",
    "\n",
    "import pandas as pd\n",
    "import numpy as np\n",
    "import xgboost as xgb\n",
    "from xgboost.sklearn import XGBClassifier\n",
    "from sklearn import cross_validation, metrics   #Additional scklearn functions\n",
    "#from sklearn.grid_search import GridSearchCV   #Perforing grid search\n",
    "from imblearn.over_sampling import SMOTE       #over sampling of minority class in imbalanced data\n",
    "from imblearn.combine import SMOTEENN          #over sampling of minority class in imbalanced data\n",
    "from sklearn.model_selection import train_test_split, cross_validate, StratifiedKFold,GridSearchCV\n",
    "from sklearn.preprocessing import StandardScaler\n",
    "from sklearn.ensemble import RandomForestClassifier\n",
    "from sklearn.metrics import precision_recall_fscore_support\n",
    "\n",
    "from sklearn.feature_selection import RFE,RFECV\n",
    "from sklearn.linear_model import LogisticRegression,LogisticRegressionCV\n",
    "\n",
    "from sklearn.ensemble import RandomForestClassifier\n",
    "from sklearn.metrics import recall_score,average_precision_score,precision_recall_curve,precision_score\n",
    "\n",
    "import seaborn as sns\n",
    "import matplotlib.pylab as plt\n",
    "%matplotlib inline\n",
    "\n",
    "pd.set_option('display.max_columns', 50)\n",
    "pd.set_option('display.max_columns', 100)"
   ]
  },
  {
   "cell_type": "code",
   "execution_count": 3,
   "metadata": {},
   "outputs": [
    {
     "data": {
      "text/html": [
       "<div>\n",
       "<style>\n",
       "    .dataframe thead tr:only-child th {\n",
       "        text-align: right;\n",
       "    }\n",
       "\n",
       "    .dataframe thead th {\n",
       "        text-align: left;\n",
       "    }\n",
       "\n",
       "    .dataframe tbody tr th {\n",
       "        vertical-align: top;\n",
       "    }\n",
       "</style>\n",
       "<table border=\"1\" class=\"dataframe\">\n",
       "  <thead>\n",
       "    <tr style=\"text-align: right;\">\n",
       "      <th></th>\n",
       "      <th>Time</th>\n",
       "      <th>V1</th>\n",
       "      <th>V2</th>\n",
       "      <th>V3</th>\n",
       "      <th>V4</th>\n",
       "      <th>V5</th>\n",
       "      <th>V6</th>\n",
       "      <th>V7</th>\n",
       "      <th>V8</th>\n",
       "      <th>V9</th>\n",
       "      <th>V10</th>\n",
       "      <th>V11</th>\n",
       "      <th>V12</th>\n",
       "      <th>V13</th>\n",
       "      <th>V14</th>\n",
       "      <th>V15</th>\n",
       "      <th>V16</th>\n",
       "      <th>V17</th>\n",
       "      <th>V18</th>\n",
       "      <th>V19</th>\n",
       "      <th>V20</th>\n",
       "      <th>V21</th>\n",
       "      <th>V22</th>\n",
       "      <th>V23</th>\n",
       "      <th>V24</th>\n",
       "      <th>V25</th>\n",
       "      <th>V26</th>\n",
       "      <th>V27</th>\n",
       "      <th>V28</th>\n",
       "      <th>Amount</th>\n",
       "      <th>Class</th>\n",
       "    </tr>\n",
       "  </thead>\n",
       "  <tbody>\n",
       "    <tr>\n",
       "      <th>0</th>\n",
       "      <td>0.0</td>\n",
       "      <td>-1.359807</td>\n",
       "      <td>-0.072781</td>\n",
       "      <td>2.536347</td>\n",
       "      <td>1.378155</td>\n",
       "      <td>-0.338321</td>\n",
       "      <td>0.462388</td>\n",
       "      <td>0.239599</td>\n",
       "      <td>0.098698</td>\n",
       "      <td>0.363787</td>\n",
       "      <td>0.090794</td>\n",
       "      <td>-0.551600</td>\n",
       "      <td>-0.617801</td>\n",
       "      <td>-0.991390</td>\n",
       "      <td>-0.311169</td>\n",
       "      <td>1.468177</td>\n",
       "      <td>-0.470401</td>\n",
       "      <td>0.207971</td>\n",
       "      <td>0.025791</td>\n",
       "      <td>0.403993</td>\n",
       "      <td>0.251412</td>\n",
       "      <td>-0.018307</td>\n",
       "      <td>0.277838</td>\n",
       "      <td>-0.110474</td>\n",
       "      <td>0.066928</td>\n",
       "      <td>0.128539</td>\n",
       "      <td>-0.189115</td>\n",
       "      <td>0.133558</td>\n",
       "      <td>-0.021053</td>\n",
       "      <td>149.62</td>\n",
       "      <td>0</td>\n",
       "    </tr>\n",
       "    <tr>\n",
       "      <th>1</th>\n",
       "      <td>0.0</td>\n",
       "      <td>1.191857</td>\n",
       "      <td>0.266151</td>\n",
       "      <td>0.166480</td>\n",
       "      <td>0.448154</td>\n",
       "      <td>0.060018</td>\n",
       "      <td>-0.082361</td>\n",
       "      <td>-0.078803</td>\n",
       "      <td>0.085102</td>\n",
       "      <td>-0.255425</td>\n",
       "      <td>-0.166974</td>\n",
       "      <td>1.612727</td>\n",
       "      <td>1.065235</td>\n",
       "      <td>0.489095</td>\n",
       "      <td>-0.143772</td>\n",
       "      <td>0.635558</td>\n",
       "      <td>0.463917</td>\n",
       "      <td>-0.114805</td>\n",
       "      <td>-0.183361</td>\n",
       "      <td>-0.145783</td>\n",
       "      <td>-0.069083</td>\n",
       "      <td>-0.225775</td>\n",
       "      <td>-0.638672</td>\n",
       "      <td>0.101288</td>\n",
       "      <td>-0.339846</td>\n",
       "      <td>0.167170</td>\n",
       "      <td>0.125895</td>\n",
       "      <td>-0.008983</td>\n",
       "      <td>0.014724</td>\n",
       "      <td>2.69</td>\n",
       "      <td>0</td>\n",
       "    </tr>\n",
       "  </tbody>\n",
       "</table>\n",
       "</div>"
      ],
      "text/plain": [
       "   Time        V1        V2        V3        V4        V5        V6        V7  \\\n",
       "0   0.0 -1.359807 -0.072781  2.536347  1.378155 -0.338321  0.462388  0.239599   \n",
       "1   0.0  1.191857  0.266151  0.166480  0.448154  0.060018 -0.082361 -0.078803   \n",
       "\n",
       "         V8        V9       V10       V11       V12       V13       V14  \\\n",
       "0  0.098698  0.363787  0.090794 -0.551600 -0.617801 -0.991390 -0.311169   \n",
       "1  0.085102 -0.255425 -0.166974  1.612727  1.065235  0.489095 -0.143772   \n",
       "\n",
       "        V15       V16       V17       V18       V19       V20       V21  \\\n",
       "0  1.468177 -0.470401  0.207971  0.025791  0.403993  0.251412 -0.018307   \n",
       "1  0.635558  0.463917 -0.114805 -0.183361 -0.145783 -0.069083 -0.225775   \n",
       "\n",
       "        V22       V23       V24       V25       V26       V27       V28  \\\n",
       "0  0.277838 -0.110474  0.066928  0.128539 -0.189115  0.133558 -0.021053   \n",
       "1 -0.638672  0.101288 -0.339846  0.167170  0.125895 -0.008983  0.014724   \n",
       "\n",
       "   Amount  Class  \n",
       "0  149.62      0  \n",
       "1    2.69      0  "
      ]
     },
     "execution_count": 3,
     "metadata": {},
     "output_type": "execute_result"
    }
   ],
   "source": [
    "# read the input files and look at the top few lines #\n",
    "data_path = \"/Users/venkatasravankanukolanu/Documents/Data Files/credit_fraud/\"\n",
    "data_df= pd.read_csv(data_path+\"creditcard.csv\")\n",
    "data_df.head(2)"
   ]
  },
  {
   "cell_type": "markdown",
   "metadata": {},
   "source": [
    "Since all the features except Time and Amount are principal components, we need to scale the features Time and Amount"
   ]
  },
  {
   "cell_type": "code",
   "execution_count": 4,
   "metadata": {},
   "outputs": [
    {
     "name": "stderr",
     "output_type": "stream",
     "text": [
      "/Users/venkatasravankanukolanu/anaconda2/lib/python2.7/site-packages/ipykernel_launcher.py:1: FutureWarning: reshape is deprecated and will raise in a subsequent release. Please use .values.reshape(...) instead\n",
      "  \"\"\"Entry point for launching an IPython kernel.\n"
     ]
    },
    {
     "data": {
      "text/html": [
       "<div>\n",
       "<style>\n",
       "    .dataframe thead tr:only-child th {\n",
       "        text-align: right;\n",
       "    }\n",
       "\n",
       "    .dataframe thead th {\n",
       "        text-align: left;\n",
       "    }\n",
       "\n",
       "    .dataframe tbody tr th {\n",
       "        vertical-align: top;\n",
       "    }\n",
       "</style>\n",
       "<table border=\"1\" class=\"dataframe\">\n",
       "  <thead>\n",
       "    <tr style=\"text-align: right;\">\n",
       "      <th></th>\n",
       "      <th>V1</th>\n",
       "      <th>V2</th>\n",
       "      <th>V3</th>\n",
       "      <th>V4</th>\n",
       "      <th>V5</th>\n",
       "      <th>V6</th>\n",
       "      <th>V7</th>\n",
       "      <th>V8</th>\n",
       "      <th>V9</th>\n",
       "      <th>V10</th>\n",
       "      <th>V11</th>\n",
       "      <th>V12</th>\n",
       "      <th>V13</th>\n",
       "      <th>V14</th>\n",
       "      <th>V15</th>\n",
       "      <th>V16</th>\n",
       "      <th>V17</th>\n",
       "      <th>V18</th>\n",
       "      <th>V19</th>\n",
       "      <th>V20</th>\n",
       "      <th>V21</th>\n",
       "      <th>V22</th>\n",
       "      <th>V23</th>\n",
       "      <th>V24</th>\n",
       "      <th>V25</th>\n",
       "      <th>V26</th>\n",
       "      <th>V27</th>\n",
       "      <th>V28</th>\n",
       "      <th>Class</th>\n",
       "      <th>std_amount</th>\n",
       "    </tr>\n",
       "  </thead>\n",
       "  <tbody>\n",
       "    <tr>\n",
       "      <th>0</th>\n",
       "      <td>-1.359807</td>\n",
       "      <td>-0.072781</td>\n",
       "      <td>2.536347</td>\n",
       "      <td>1.378155</td>\n",
       "      <td>-0.338321</td>\n",
       "      <td>0.462388</td>\n",
       "      <td>0.239599</td>\n",
       "      <td>0.098698</td>\n",
       "      <td>0.363787</td>\n",
       "      <td>0.090794</td>\n",
       "      <td>-0.551600</td>\n",
       "      <td>-0.617801</td>\n",
       "      <td>-0.991390</td>\n",
       "      <td>-0.311169</td>\n",
       "      <td>1.468177</td>\n",
       "      <td>-0.470401</td>\n",
       "      <td>0.207971</td>\n",
       "      <td>0.025791</td>\n",
       "      <td>0.403993</td>\n",
       "      <td>0.251412</td>\n",
       "      <td>-0.018307</td>\n",
       "      <td>0.277838</td>\n",
       "      <td>-0.110474</td>\n",
       "      <td>0.066928</td>\n",
       "      <td>0.128539</td>\n",
       "      <td>-0.189115</td>\n",
       "      <td>0.133558</td>\n",
       "      <td>-0.021053</td>\n",
       "      <td>0</td>\n",
       "      <td>0.244964</td>\n",
       "    </tr>\n",
       "    <tr>\n",
       "      <th>1</th>\n",
       "      <td>1.191857</td>\n",
       "      <td>0.266151</td>\n",
       "      <td>0.166480</td>\n",
       "      <td>0.448154</td>\n",
       "      <td>0.060018</td>\n",
       "      <td>-0.082361</td>\n",
       "      <td>-0.078803</td>\n",
       "      <td>0.085102</td>\n",
       "      <td>-0.255425</td>\n",
       "      <td>-0.166974</td>\n",
       "      <td>1.612727</td>\n",
       "      <td>1.065235</td>\n",
       "      <td>0.489095</td>\n",
       "      <td>-0.143772</td>\n",
       "      <td>0.635558</td>\n",
       "      <td>0.463917</td>\n",
       "      <td>-0.114805</td>\n",
       "      <td>-0.183361</td>\n",
       "      <td>-0.145783</td>\n",
       "      <td>-0.069083</td>\n",
       "      <td>-0.225775</td>\n",
       "      <td>-0.638672</td>\n",
       "      <td>0.101288</td>\n",
       "      <td>-0.339846</td>\n",
       "      <td>0.167170</td>\n",
       "      <td>0.125895</td>\n",
       "      <td>-0.008983</td>\n",
       "      <td>0.014724</td>\n",
       "      <td>0</td>\n",
       "      <td>-0.342475</td>\n",
       "    </tr>\n",
       "  </tbody>\n",
       "</table>\n",
       "</div>"
      ],
      "text/plain": [
       "         V1        V2        V3        V4        V5        V6        V7  \\\n",
       "0 -1.359807 -0.072781  2.536347  1.378155 -0.338321  0.462388  0.239599   \n",
       "1  1.191857  0.266151  0.166480  0.448154  0.060018 -0.082361 -0.078803   \n",
       "\n",
       "         V8        V9       V10       V11       V12       V13       V14  \\\n",
       "0  0.098698  0.363787  0.090794 -0.551600 -0.617801 -0.991390 -0.311169   \n",
       "1  0.085102 -0.255425 -0.166974  1.612727  1.065235  0.489095 -0.143772   \n",
       "\n",
       "        V15       V16       V17       V18       V19       V20       V21  \\\n",
       "0  1.468177 -0.470401  0.207971  0.025791  0.403993  0.251412 -0.018307   \n",
       "1  0.635558  0.463917 -0.114805 -0.183361 -0.145783 -0.069083 -0.225775   \n",
       "\n",
       "        V22       V23       V24       V25       V26       V27       V28  \\\n",
       "0  0.277838 -0.110474  0.066928  0.128539 -0.189115  0.133558 -0.021053   \n",
       "1 -0.638672  0.101288 -0.339846  0.167170  0.125895 -0.008983  0.014724   \n",
       "\n",
       "   Class  std_amount  \n",
       "0      0    0.244964  \n",
       "1      0   -0.342475  "
      ]
     },
     "execution_count": 4,
     "metadata": {},
     "output_type": "execute_result"
    }
   ],
   "source": [
    "data_df['std_amount'] = StandardScaler().fit_transform(data_df['Amount'].reshape(-1, 1))\n",
    "data_df= data_df.drop(['Time','Amount'],axis=1)\n",
    "data_df.head(2)"
   ]
  },
  {
   "cell_type": "code",
   "execution_count": 5,
   "metadata": {},
   "outputs": [],
   "source": [
    "response='Class'\n",
    "predictors=data_df.columns[data_df.columns != 'Class']"
   ]
  },
  {
   "cell_type": "code",
   "execution_count": 9,
   "metadata": {},
   "outputs": [
    {
     "data": {
      "image/png": "[encoded data removed]",
      "text/plain": [
       "<matplotlib.figure.Figure at 0x10fdc2f50>"
      ]
     },
     "metadata": {},
     "output_type": "display_data"
    }
   ],
   "source": [
    "sns.countplot(x='Class', data=data_df)\n",
    "plt.xticks(rotation='horizontal')\n",
    "plt.show()"
   ]
  },
  {
   "cell_type": "markdown",
   "metadata": {},
   "source": [
    "This plot clearly shows the data has high class imbalance. We need to train our model taking care of the class imbalance as we are interested in predicting the minority class."
   ]
  },
  {
   "cell_type": "markdown",
   "metadata": {},
   "source": [
    "#### Split the data as test and train"
   ]
  },
  {
   "cell_type": "code",
   "execution_count": 11,
   "metadata": {
    "collapsed": true
   },
   "outputs": [],
   "source": [
    "df_train, df_test = train_test_split(data_df, test_size=0.1, random_state=2,stratify=data_df[response])"
   ]
  },
  {
   "cell_type": "markdown",
   "metadata": {},
   "source": [
    "### Random Forests"
   ]
  },
  {
   "cell_type": "markdown",
   "metadata": {},
   "source": [
    "Random Forest trains multiple decesion trees and classifies the input based on a majority vote by the tress in the forest. Since the data set is highly skewed in class distribution, we can handle that problem in multiple ways:\n",
    "1. Adding penality on minority class missclassification.\n",
    "2. Balancing the classes using ENN, SMOTE, SMOTEENN and SMOTETomek\n",
    "3. Adjusting the threshold probability for classification\n",
    "\n",
    "Here we will use Random Forests along with adding penality for minority class missclassification. <br>\n",
    "We will start my defining 2 functions i.e. \n",
    "1. Function to train random forest with given parameters and plot the results on a test data set. \n",
    "2. Function to evaluate a given random forest model by K-fold cross validation"
   ]
  },
  {
   "cell_type": "code",
   "execution_count": 47,
   "metadata": {
    "collapsed": true
   },
   "outputs": [],
   "source": [
    "##Function for training models and testing on a test set. if plot is True, it plots a PRC curve for \n",
    "##training and test sets and finds the threshold where (precision*recall) is maximum.\n",
    "def modelfit(alg,dtrain,dtest,predictors,response,plot=True):\n",
    "    \n",
    "    #Fit the algorithm on the data\n",
    "    alg.fit(dtrain[predictors], dtrain[response])\n",
    "        \n",
    "    #Predict training set:\n",
    "    dtrain_pred = alg.predict(dtrain[predictors])\n",
    "    dtrain_predprob = alg.predict_proba(dtrain[predictors])[:,1]\n",
    "    \n",
    "    dtest_pred = alg.predict(dtest[predictors])\n",
    "    dtest_predprob = alg.predict_proba(dtest[predictors])[:,1]\n",
    "    \n",
    "    prf_train=precision_recall_fscore_support(dtrain[response], dtrain_pred,pos_label =1, average ='binary')\n",
    "    prf_test=precision_recall_fscore_support(dtest[response], dtest_pred,pos_label =1, average ='binary')\n",
    "    area_prc_test=average_precision_score(dtest[response], dtest_predprob,average=None)\n",
    "    area_prc_train=average_precision_score(dtrain[response], dtrain_predprob,average=None)\n",
    "    \n",
    "    \n",
    "    precision_train, recall_train, thr_train = precision_recall_curve(dtrain[response], dtrain_predprob,pos_label =1)\n",
    "    precision_test, recall_test, thr_test = precision_recall_curve(dtest[response],dtest_predprob,pos_label =1)\n",
    "    \n",
    "    #area, thr = ((precision_test)*(recall_test)), thr_test\n",
    "    #idx= np.argmax(area)\n",
    "    \n",
    "    \n",
    "    print \"Model report on training data:\"\n",
    "    print \"Train: Precision: %.4g\" % (prf_train[0]*100)\n",
    "    print \"Train: Recall : %.4g\" % (prf_train[1]*100)\n",
    "    print \"Average Precision (Train): %f\" % (area_prc_train*100)\n",
    "    print \"\\nModel report on test data:\"\n",
    "    print \"Test: Precision: %.4g\" % (prf_test[0]*100)\n",
    "    print \"Test: Recall : %.4g\" % (prf_test[1]*100)\n",
    "    print \"Average Precision (Trest): %f\" % (area_prc_test*100)\n",
    "\n",
    "    if plot:\n",
    "        plt.figure(figsize=(10,6))\n",
    "        plt.plot(recall_test, precision_test, color='coral',label=' Test PR-Curve')\n",
    "        plt.plot(recall_train, precision_train, color='green',label=' Train PR-Curve')\n",
    "        #plt.plot([0, 1], [0, 1], 'k--')\n",
    "        #plt.plot([0,recall_test[idx]], [precision_test[idx],precision_test[idx]], 'k--', color='blue')\n",
    "        #plt.plot([recall_test[idx],recall_test[idx]], [0,precision_test[idx]], 'k--', color='blue')\n",
    "        plt.xlim([0.0, 1.0])\n",
    "        plt.ylim([0.0, 1.05])\n",
    "        plt.xlabel('Recall', fontsize=14)\n",
    "        plt.ylabel('Precision', fontsize=14)\n",
    "        plt.title('Precision-Recall Curve')\n",
    "        plt.legend(loc=\"lower left\")\n",
    "        plt.show()\n",
    "        \n",
    "        #print(\"Using a threshold of %.3f \" % thr[idx] + \"guarantees a precision of %.3f \" % precision[idx] +  \n",
    "                  #\"and a recall of %.3f\" % recall[idx])"
   ]
  },
  {
   "cell_type": "code",
   "execution_count": 15,
   "metadata": {
    "collapsed": true
   },
   "outputs": [],
   "source": [
    "#Function for K-Fold Stratified Cross_validation of any model\n",
    "def cv_modelfit(alg,dtrain,predictors,response,cvfolds):\n",
    "\n",
    "    skf = StratifiedKFold(n_splits=cvfolds,random_state=2)\n",
    "    cv_results = np.zeros((cvfolds, 3))\n",
    "    for i, (train_index, test_index) in enumerate(skf.split(dtrain[predictors],dtrain[response])):\n",
    "        for j in range(0,3):\n",
    "            cvtrain=df_train.iloc[train_index]\n",
    "            cvtest=df_train.iloc[test_index]\n",
    "\n",
    "            #Fit the algorithm on the data\n",
    "            alg.fit(cvtrain[predictors], cvtrain[response])\n",
    "\n",
    "            #Predict training set:\n",
    "            dtrain_pred = alg.predict(cvtrain[predictors])\n",
    "            dtrain_predprob = alg.predict_proba(cvtrain[predictors])[:,1]\n",
    "\n",
    "            dtest_pred = alg.predict(cvtest[predictors])\n",
    "            dtest_predprob = alg.predict_proba(cvtest[predictors])[:,1]\n",
    "\n",
    "            prf_train=precision_recall_fscore_support(cvtrain[response], dtrain_pred,pos_label =1, average ='binary')\n",
    "            prf_test=precision_recall_fscore_support(cvtest[response], dtest_pred,pos_label =1, average ='binary')\n",
    "            area_prc_test=average_precision_score(cvtest[response], dtest_predprob,average=None)\n",
    "            area_prc_train=average_precision_score(cvtrain[response], dtrain_predprob,average=None)\n",
    "\n",
    "\n",
    "            cvr=[prf_test[0],prf_test[1],area_prc_test]\n",
    "            cv_results[i,j]=cvr[j]\n",
    "\n",
    "    print \"Mean CV Test Precision: %.4g\" % (cv_results[:,0].mean()*100)\n",
    "    print \"Mean CV Test Recall: %.4g\" % (cv_results[:,1].mean()*100)\n",
    "    print \"Std.Devation of CV Test Precision: %.4g\" % (cv_results[:,0].std()*100)\n",
    "    print \"Std.Devation of CV Test Recall: %.4g\" % (cv_results[:,1].std()*100)"
   ]
  },
  {
   "cell_type": "markdown",
   "metadata": {},
   "source": [
    "### Baseline Random Forest Model"
   ]
  },
  {
   "cell_type": "markdown",
   "metadata": {},
   "source": [
    "This baseline model is trained on 500 decision tress with a class weight of 3:1 i.e. minority class missclassification is 3 times penalized to that if majority class. We will start with a 3:1 ratio since our main approach is to add penality else we should start with 1:1 ratio."
   ]
  },
  {
   "cell_type": "code",
   "execution_count": 16,
   "metadata": {
    "collapsed": true
   },
   "outputs": [],
   "source": [
    "rf1=RandomForestClassifier(n_estimators=500, max_depth=5, min_samples_split=2, \n",
    "                           min_samples_leaf=1, max_leaf_nodes=None, min_impurity_decrease=0.0, \n",
    "                           bootstrap=True, oob_score=True, n_jobs=-1, random_state=2, verbose=0, \n",
    "                           warm_start=False, class_weight={0:1,1:3})"
   ]
  },
  {
   "cell_type": "code",
   "execution_count": 49,
   "metadata": {},
   "outputs": [
    {
     "name": "stdout",
     "output_type": "stream",
     "text": [
      "Model report on training data:\n",
      "Train: Precision: 92.69\n",
      "Train: Recall : 80.14\n",
      "Average Precision (Train): 85.117381\n",
      "\n",
      "Model report on test data:\n",
      "Test: Precision: 82.98\n",
      "Test: Recall : 79.59\n",
      "Average Precision (Trest): 81.891900\n"
     ]
    },
    {
     "data": {
      "image/png": "[encoded data removed]",
      "text/plain": [
       "<matplotlib.figure.Figure at 0x10ccfe550>"
      ]
     },
     "metadata": {},
     "output_type": "display_data"
    }
   ],
   "source": [
    "modelfit(rf1,df_train, df_test,predictors,response,plot=True)"
   ]
  },
  {
   "cell_type": "markdown",
   "metadata": {},
   "source": [
    "### Model Evaluation by 10-fold Cross-Validation"
   ]
  },
  {
   "cell_type": "code",
   "execution_count": 235,
   "metadata": {},
   "outputs": [
    {
     "name": "stdout",
     "output_type": "stream",
     "text": [
      "Mean CV Test Precision: 84.08\n",
      "Mean CV Test Recall: 73.6\n",
      "Std.Devation of CV Test Precision: 8.182\n",
      "Std.Devation of CV Test Recall: 6.434\n"
     ]
    }
   ],
   "source": [
    "cv_modelfit(rf1,df_train,predictors,response,10)"
   ]
  },
  {
   "cell_type": "markdown",
   "metadata": {},
   "source": [
    "### Hyperparameter Tuning of Random Forest"
   ]
  },
  {
   "cell_type": "markdown",
   "metadata": {},
   "source": [
    "We will use GridSearch to find the optimal parameters for random forest. Will first tune 1. Number of estimators(n_estimators) and 2. Number of features to consider for split(max_features). We will use Gini Impurity as the criterion since it is easy to compute compared to Entropy and chose the parameters with lowest Gini Impurity value. <br>\n",
    "Let us tune these 2 parameters in multiple steps."
   ]
  },
  {
   "cell_type": "code",
   "execution_count": 17,
   "metadata": {
    "collapsed": true
   },
   "outputs": [],
   "source": [
    "from sklearn.model_selection import GridSearchCV\n",
    "def grid_tune(param_test,scores):\n",
    "    \n",
    "    for score in scores:\n",
    "        print(\"# Tuning hyper-parameters for %s\" % score)\n",
    "        print\n",
    "\n",
    "        clf = GridSearchCV(RandomForestClassifier(n_estimators=275,max_features='sqrt',max_depth=10, min_samples_split=2, \n",
    "                               min_samples_leaf=3, max_leaf_nodes=30, min_impurity_decrease=0.0, \n",
    "                               bootstrap=True, oob_score=True, n_jobs=-1, random_state=2, verbose=0, \n",
    "                               warm_start=False, class_weight={0:1,1:200}), param_test, cv=5,\n",
    "                           scoring=score)\n",
    "        clf.fit(df_train[predictors], df_train[response])\n",
    "\n",
    "        print(\"Best parameters set found on development set:\")\n",
    "        print\n",
    "        print(clf.best_params_,clf.best_score_)\n",
    "        print\n",
    "        print(\"Grid scores on development set:\")\n",
    "        print\n",
    "        means = clf.cv_results_['mean_test_score']\n",
    "        stds = clf.cv_results_['std_test_score']\n",
    "        for mean, std, params in zip(means, stds, clf.cv_results_['params']):\n",
    "            print(\"%0.3f (+/-%0.03f) for %r\"\n",
    "                  % (mean, std * 2, params))"
   ]
  },
  {
   "cell_type": "code",
   "execution_count": 267,
   "metadata": {},
   "outputs": [
    {
     "name": "stdout",
     "output_type": "stream",
     "text": [
      "# Tuning hyper-parameters for recall\n",
      "()\n",
      "Best parameters set found on development set:\n",
      "()\n",
      "{'max_features': 'sqrt', 'n_estimators': 301}\n",
      "()\n",
      "Grid scores on development set:\n",
      "()\n",
      "0.709 (+/-0.138) for {'max_features': 'log2', 'n_estimators': 1}\n",
      "0.756 (+/-0.058) for {'max_features': 'log2', 'n_estimators': 301}\n",
      "0.759 (+/-0.063) for {'max_features': 'log2', 'n_estimators': 601}\n",
      "0.693 (+/-0.163) for {'max_features': 'sqrt', 'n_estimators': 1}\n",
      "0.772 (+/-0.074) for {'max_features': 'sqrt', 'n_estimators': 301}\n",
      "0.763 (+/-0.068) for {'max_features': 'sqrt', 'n_estimators': 601}\n",
      "()\n",
      "# Tuning hyper-parameters for precision\n",
      "()\n",
      "Best parameters set found on development set:\n",
      "()\n",
      "{'max_features': 'log2', 'n_estimators': 601}\n",
      "()\n",
      "Grid scores on development set:\n",
      "()\n",
      "0.839 (+/-0.054) for {'max_features': 'log2', 'n_estimators': 1}\n",
      "0.896 (+/-0.040) for {'max_features': 'log2', 'n_estimators': 301}\n",
      "0.900 (+/-0.040) for {'max_features': 'log2', 'n_estimators': 601}\n",
      "0.797 (+/-0.157) for {'max_features': 'sqrt', 'n_estimators': 1}\n",
      "0.897 (+/-0.029) for {'max_features': 'sqrt', 'n_estimators': 301}\n",
      "0.899 (+/-0.030) for {'max_features': 'sqrt', 'n_estimators': 601}\n",
      "()\n"
     ]
    }
   ],
   "source": [
    "# Set to n_estimators to the tuned values from cross-validation\n",
    "scores1 = ['recall','precision']\n",
    "param_test1 = {\n",
    " 'n_estimators':range(1,901,300),\n",
    " 'max_features':['log2', 'sqrt']\n",
    "}\n",
    "grid_tune(param_test1,scores1)"
   ]
  },
  {
   "cell_type": "code",
   "execution_count": 269,
   "metadata": {},
   "outputs": [
    {
     "name": "stdout",
     "output_type": "stream",
     "text": [
      "# Tuning hyper-parameters for recall\n",
      "()\n",
      "Best parameters set found on development set:\n",
      "\n",
      "({'max_features': 'sqrt', 'n_estimators': 275}, 0.7742849203210381)\n",
      "\n",
      "Grid scores on development set:\n",
      "\n",
      "0.759 (+/-0.063) for {'max_features': 'log2', 'n_estimators': 200}\n",
      "0.761 (+/-0.066) for {'max_features': 'log2', 'n_estimators': 225}\n",
      "0.759 (+/-0.063) for {'max_features': 'log2', 'n_estimators': 250}\n",
      "0.761 (+/-0.056) for {'max_features': 'log2', 'n_estimators': 275}\n",
      "0.759 (+/-0.063) for {'max_features': 'log2', 'n_estimators': 300}\n",
      "0.759 (+/-0.063) for {'max_features': 'log2', 'n_estimators': 325}\n",
      "0.759 (+/-0.063) for {'max_features': 'log2', 'n_estimators': 350}\n",
      "0.759 (+/-0.063) for {'max_features': 'log2', 'n_estimators': 375}\n",
      "0.772 (+/-0.074) for {'max_features': 'sqrt', 'n_estimators': 200}\n",
      "0.770 (+/-0.069) for {'max_features': 'sqrt', 'n_estimators': 225}\n",
      "0.772 (+/-0.074) for {'max_features': 'sqrt', 'n_estimators': 250}\n",
      "0.774 (+/-0.077) for {'max_features': 'sqrt', 'n_estimators': 275}\n",
      "0.770 (+/-0.072) for {'max_features': 'sqrt', 'n_estimators': 300}\n",
      "0.770 (+/-0.072) for {'max_features': 'sqrt', 'n_estimators': 325}\n",
      "0.765 (+/-0.061) for {'max_features': 'sqrt', 'n_estimators': 350}\n",
      "0.768 (+/-0.066) for {'max_features': 'sqrt', 'n_estimators': 375}\n",
      "\n",
      "# Tuning hyper-parameters for precision\n",
      "()\n",
      "Best parameters set found on development set:\n",
      "\n",
      "({'max_features': 'log2', 'n_estimators': 350}, 0.9029804882606783)\n",
      "\n",
      "Grid scores on development set:\n",
      "\n",
      "0.894 (+/-0.043) for {'max_features': 'log2', 'n_estimators': 200}\n",
      "0.894 (+/-0.044) for {'max_features': 'log2', 'n_estimators': 225}\n",
      "0.898 (+/-0.047) for {'max_features': 'log2', 'n_estimators': 250}\n",
      "0.896 (+/-0.039) for {'max_features': 'log2', 'n_estimators': 275}\n",
      "0.896 (+/-0.040) for {'max_features': 'log2', 'n_estimators': 300}\n",
      "0.898 (+/-0.039) for {'max_features': 'log2', 'n_estimators': 325}\n",
      "0.903 (+/-0.045) for {'max_features': 'log2', 'n_estimators': 350}\n",
      "0.901 (+/-0.045) for {'max_features': 'log2', 'n_estimators': 375}\n",
      "0.895 (+/-0.021) for {'max_features': 'sqrt', 'n_estimators': 200}\n",
      "0.897 (+/-0.029) for {'max_features': 'sqrt', 'n_estimators': 225}\n",
      "0.897 (+/-0.029) for {'max_features': 'sqrt', 'n_estimators': 250}\n",
      "0.898 (+/-0.029) for {'max_features': 'sqrt', 'n_estimators': 275}\n",
      "0.897 (+/-0.028) for {'max_features': 'sqrt', 'n_estimators': 300}\n",
      "0.897 (+/-0.028) for {'max_features': 'sqrt', 'n_estimators': 325}\n",
      "0.897 (+/-0.028) for {'max_features': 'sqrt', 'n_estimators': 350}\n",
      "0.897 (+/-0.028) for {'max_features': 'sqrt', 'n_estimators': 375}\n",
      "\n"
     ]
    }
   ],
   "source": [
    "# Set to n_estimators to the tuned values from cross-validation\n",
    "scores1 = ['recall','precision']\n",
    "param_test2 = {\n",
    " 'n_estimators':range(200,400,25),\n",
    " 'max_features':['log2', 'sqrt']\n",
    "}\n",
    "grid_tune(param_test2,scores1)"
   ]
  },
  {
   "cell_type": "markdown",
   "metadata": {},
   "source": [
    "Since setting the n_estimators to 275 and max_features to sqareroot of number of features gives a recall of 77.4% and precision of 89.8%, we will use these parameters. Next let us tune max_depth and min_samples_split to avoid overfitting of the trees."
   ]
  },
  {
   "cell_type": "code",
   "execution_count": 18,
   "metadata": {},
   "outputs": [
    {
     "name": "stdout",
     "output_type": "stream",
     "text": [
      "# Tuning hyper-parameters for recall\n",
      "\n",
      "Best parameters set found on development set:\n",
      "\n",
      "({'max_depth': 10}, 0.7832483766423053)\n",
      "\n",
      "Grid scores on development set:\n",
      "\n",
      "0.652 (+/-0.024) for {'max_depth': 2}\n",
      "0.779 (+/-0.076) for {'max_depth': 6}\n",
      "0.783 (+/-0.090) for {'max_depth': 10}\n",
      "0.781 (+/-0.095) for {'max_depth': 14}\n",
      "# Tuning hyper-parameters for precision\n",
      "\n",
      "Best parameters set found on development set:\n",
      "\n",
      "({'max_depth': 14}, 0.9523418788018786)\n",
      "\n",
      "Grid scores on development set:\n",
      "\n",
      "0.863 (+/-0.033) for {'max_depth': 2}\n",
      "0.920 (+/-0.051) for {'max_depth': 6}\n",
      "0.950 (+/-0.044) for {'max_depth': 10}\n",
      "0.952 (+/-0.042) for {'max_depth': 14}\n"
     ]
    }
   ],
   "source": [
    "scores1 = ['recall','precision']\n",
    "param_test3 = {'max_depth':range(2,15,4)}\n",
    "grid_tune(param_test3,scores1)"
   ]
  },
  {
   "cell_type": "code",
   "execution_count": 19,
   "metadata": {},
   "outputs": [
    {
     "name": "stdout",
     "output_type": "stream",
     "text": [
      "# Tuning hyper-parameters for recall\n",
      "\n",
      "Best parameters set found on development set:\n",
      "\n",
      "({'max_depth': 10}, 0.7832483766423053)\n",
      "\n",
      "Grid scores on development set:\n",
      "\n",
      "0.781 (+/-0.077) for {'max_depth': 8}\n",
      "0.781 (+/-0.086) for {'max_depth': 9}\n",
      "0.783 (+/-0.090) for {'max_depth': 10}\n",
      "0.781 (+/-0.086) for {'max_depth': 11}\n"
     ]
    }
   ],
   "source": [
    "scores2 = ['recall']\n",
    "param_test4 = {'max_depth':range(8,12,1)}\n",
    "grid_tune(param_test4,scores2)"
   ]
  },
  {
   "cell_type": "markdown",
   "metadata": {},
   "source": [
    "We can clearly see that max_depth of 10 gives a recall values of 78.3% and precision of 95%. Now let us tune min_samples_split"
   ]
  },
  {
   "cell_type": "code",
   "execution_count": 20,
   "metadata": {},
   "outputs": [
    {
     "name": "stdout",
     "output_type": "stream",
     "text": [
      "# Tuning hyper-parameters for recall\n",
      "\n",
      "Best parameters set found on development set:\n",
      "\n",
      "({'min_samples_split': 77}, 0.7765321463999771)\n",
      "\n",
      "Grid scores on development set:\n",
      "\n",
      "0.774 (+/-0.077) for {'min_samples_split': 2}\n",
      "0.772 (+/-0.074) for {'min_samples_split': 27}\n",
      "0.777 (+/-0.069) for {'min_samples_split': 52}\n",
      "0.777 (+/-0.072) for {'min_samples_split': 77}\n",
      "# Tuning hyper-parameters for precision\n",
      "\n",
      "Best parameters set found on development set:\n",
      "\n",
      "({'min_samples_split': 2}, 0.8976160048115589)\n",
      "\n",
      "Grid scores on development set:\n",
      "\n",
      "0.898 (+/-0.029) for {'min_samples_split': 2}\n",
      "0.868 (+/-0.025) for {'min_samples_split': 27}\n",
      "0.862 (+/-0.023) for {'min_samples_split': 52}\n",
      "0.860 (+/-0.016) for {'min_samples_split': 77}\n"
     ]
    }
   ],
   "source": [
    "scores1 = ['recall','precision']\n",
    "param_test5 = {'min_samples_split':range(2,102,25)}\n",
    "grid_tune(param_test5,scores1)"
   ]
  },
  {
   "cell_type": "code",
   "execution_count": 21,
   "metadata": {},
   "outputs": [
    {
     "name": "stdout",
     "output_type": "stream",
     "text": [
      "# Tuning hyper-parameters for recall\n",
      "\n",
      "Best parameters set found on development set:\n",
      "\n",
      "({'min_samples_leaf': 3}, 0.7765321463999771)\n",
      "\n",
      "Grid scores on development set:\n",
      "\n",
      "0.774 (+/-0.077) for {'min_samples_leaf': 1}\n",
      "0.777 (+/-0.072) for {'min_samples_leaf': 3}\n",
      "0.774 (+/-0.087) for {'min_samples_leaf': 5}\n",
      "0.774 (+/-0.068) for {'min_samples_leaf': 7}\n",
      "0.774 (+/-0.077) for {'min_samples_leaf': 9}\n",
      "0.774 (+/-0.071) for {'min_samples_leaf': 11}\n",
      "# Tuning hyper-parameters for precision\n",
      "\n",
      "Best parameters set found on development set:\n",
      "\n",
      "({'min_samples_leaf': 9}, 0.8998944324902359)\n",
      "\n",
      "Grid scores on development set:\n",
      "\n",
      "0.898 (+/-0.029) for {'min_samples_leaf': 1}\n",
      "0.898 (+/-0.029) for {'min_samples_leaf': 3}\n",
      "0.893 (+/-0.030) for {'min_samples_leaf': 5}\n",
      "0.898 (+/-0.024) for {'min_samples_leaf': 7}\n",
      "0.900 (+/-0.031) for {'min_samples_leaf': 9}\n",
      "0.888 (+/-0.038) for {'min_samples_leaf': 11}\n"
     ]
    }
   ],
   "source": [
    "scores1 = ['recall','precision']\n",
    "param_test6 = {'min_samples_leaf':range(1,13,2)}\n",
    "grid_tune(param_test6,scores1)"
   ]
  },
  {
   "cell_type": "code",
   "execution_count": 22,
   "metadata": {},
   "outputs": [
    {
     "name": "stdout",
     "output_type": "stream",
     "text": [
      "# Tuning hyper-parameters for recall\n",
      "\n",
      "Best parameters set found on development set:\n",
      "\n",
      "({'min_samples_leaf': 2}, 0.7765321463999771)\n",
      "\n",
      "Grid scores on development set:\n",
      "\n",
      "0.774 (+/-0.077) for {'min_samples_leaf': 1}\n",
      "0.777 (+/-0.080) for {'min_samples_leaf': 2}\n",
      "0.777 (+/-0.072) for {'min_samples_leaf': 3}\n",
      "# Tuning hyper-parameters for precision\n",
      "\n",
      "Best parameters set found on development set:\n",
      "\n",
      "({'min_samples_leaf': 3}, 0.8978869662309431)\n",
      "\n",
      "Grid scores on development set:\n",
      "\n",
      "0.898 (+/-0.029) for {'min_samples_leaf': 1}\n",
      "0.898 (+/-0.030) for {'min_samples_leaf': 2}\n",
      "0.898 (+/-0.029) for {'min_samples_leaf': 3}\n"
     ]
    }
   ],
   "source": [
    "param_test7 = {'min_samples_leaf':[1,2,3]}\n",
    "grid_tune(param_test7,scores1)"
   ]
  },
  {
   "cell_type": "markdown",
   "metadata": {},
   "source": [
    "Since min_samples_leaf set to 3 gives a recall of 77.6% and a precision of 89.7%, will set the parameter to 2. Let us tune max_leaf_nodes."
   ]
  },
  {
   "cell_type": "code",
   "execution_count": 24,
   "metadata": {},
   "outputs": [
    {
     "name": "stdout",
     "output_type": "stream",
     "text": [
      "# Tuning hyper-parameters for recall\n",
      "\n",
      "Best parameters set found on development set:\n",
      "\n",
      "({'max_leaf_nodes': 22}, 0.7765575943944659)\n",
      "\n",
      "Grid scores on development set:\n",
      "\n",
      "0.503 (+/-0.066) for {'max_leaf_nodes': 2}\n",
      "0.722 (+/-0.049) for {'max_leaf_nodes': 6}\n",
      "0.759 (+/-0.063) for {'max_leaf_nodes': 10}\n",
      "0.768 (+/-0.070) for {'max_leaf_nodes': 14}\n",
      "0.777 (+/-0.083) for {'max_leaf_nodes': 18}\n",
      "0.777 (+/-0.083) for {'max_leaf_nodes': 22}\n",
      "# Tuning hyper-parameters for precision\n",
      "\n",
      "Best parameters set found on development set:\n",
      "\n",
      "({'max_leaf_nodes': 22}, 0.916902401855839)\n",
      "\n",
      "Grid scores on development set:\n",
      "\n",
      "0.851 (+/-0.033) for {'max_leaf_nodes': 2}\n",
      "0.865 (+/-0.037) for {'max_leaf_nodes': 6}\n",
      "0.870 (+/-0.037) for {'max_leaf_nodes': 10}\n",
      "0.872 (+/-0.037) for {'max_leaf_nodes': 14}\n",
      "0.910 (+/-0.047) for {'max_leaf_nodes': 18}\n",
      "0.917 (+/-0.048) for {'max_leaf_nodes': 22}\n"
     ]
    }
   ],
   "source": [
    "param_test8 = {'max_leaf_nodes':range(2,23,4)}\n",
    "grid_tune(param_test8,scores1)"
   ]
  },
  {
   "cell_type": "code",
   "execution_count": 25,
   "metadata": {},
   "outputs": [
    {
     "name": "stdout",
     "output_type": "stream",
     "text": [
      "# Tuning hyper-parameters for recall\n",
      "\n",
      "Best parameters set found on development set:\n",
      "\n",
      "({'max_leaf_nodes': 26}, 0.7788048204734048)\n",
      "\n",
      "Grid scores on development set:\n",
      "\n",
      "0.777 (+/-0.083) for {'max_leaf_nodes': 18}\n",
      "0.777 (+/-0.083) for {'max_leaf_nodes': 22}\n",
      "0.779 (+/-0.076) for {'max_leaf_nodes': 26}\n"
     ]
    }
   ],
   "source": [
    "param_test9 = {'max_leaf_nodes':range(18,27,4)}\n",
    "grid_tune(param_test9,scores2)"
   ]
  },
  {
   "cell_type": "code",
   "execution_count": 26,
   "metadata": {},
   "outputs": [
    {
     "name": "stdout",
     "output_type": "stream",
     "text": [
      "# Tuning hyper-parameters for recall\n",
      "\n",
      "Best parameters set found on development set:\n",
      "\n",
      "({'max_leaf_nodes': 30}, 0.7810520465523438)\n",
      "\n",
      "Grid scores on development set:\n",
      "\n",
      "0.779 (+/-0.076) for {'max_leaf_nodes': 26}\n",
      "0.781 (+/-0.080) for {'max_leaf_nodes': 30}\n",
      "0.781 (+/-0.080) for {'max_leaf_nodes': 34}\n",
      "0.781 (+/-0.080) for {'max_leaf_nodes': 38}\n",
      "0.781 (+/-0.080) for {'max_leaf_nodes': 42}\n"
     ]
    }
   ],
   "source": [
    "param_test10 = {'max_leaf_nodes':range(26,44,4)}\n",
    "grid_tune(param_test10,scores2)"
   ]
  },
  {
   "cell_type": "code",
   "execution_count": 27,
   "metadata": {},
   "outputs": [
    {
     "name": "stdout",
     "output_type": "stream",
     "text": [
      "# Tuning hyper-parameters for recall\n",
      "\n",
      "Best parameters set found on development set:\n",
      "\n",
      "({'max_leaf_nodes': 30}, 0.7810520465523438)\n",
      "\n",
      "Grid scores on development set:\n",
      "\n",
      "0.700 (+/-0.060) for {'max_leaf_nodes': 5}\n",
      "0.781 (+/-0.080) for {'max_leaf_nodes': 30}\n",
      "0.781 (+/-0.080) for {'max_leaf_nodes': 55}\n",
      "0.781 (+/-0.080) for {'max_leaf_nodes': 80}\n",
      "0.781 (+/-0.080) for {'max_leaf_nodes': 105}\n"
     ]
    }
   ],
   "source": [
    "param_test11 = {'max_leaf_nodes':range(5,106,25)}\n",
    "grid_tune(param_test11,scores2)"
   ]
  },
  {
   "cell_type": "markdown",
   "metadata": {},
   "source": [
    "We will set max_leaf_nodes to 30."
   ]
  },
  {
   "cell_type": "code",
   "execution_count": 28,
   "metadata": {},
   "outputs": [
    {
     "name": "stdout",
     "output_type": "stream",
     "text": [
      "# Tuning hyper-parameters for recall\n",
      "\n",
      "Best parameters set found on development set:\n",
      "\n",
      "({'class_weight': 'balanced'}, 0.855541331085685)\n",
      "\n",
      "Grid scores on development set:\n",
      "\n",
      "0.725 (+/-0.053) for {'class_weight': {0: 1, 1: 1}}\n",
      "0.761 (+/-0.066) for {'class_weight': {0: 1, 1: 2}}\n",
      "0.774 (+/-0.077) for {'class_weight': {0: 1, 1: 3}}\n",
      "0.792 (+/-0.092) for {'class_weight': {0: 1, 1: 10}}\n",
      "0.856 (+/-0.097) for {'class_weight': 'balanced'}\n",
      "# Tuning hyper-parameters for precision\n",
      "\n",
      "Best parameters set found on development set:\n",
      "\n",
      "({'class_weight': {0: 1, 1: 1}}, 0.9249570215207621)\n",
      "\n",
      "Grid scores on development set:\n",
      "\n",
      "0.925 (+/-0.040) for {'class_weight': {0: 1, 1: 1}}\n",
      "0.916 (+/-0.041) for {'class_weight': {0: 1, 1: 2}}\n",
      "0.898 (+/-0.029) for {'class_weight': {0: 1, 1: 3}}\n",
      "0.864 (+/-0.038) for {'class_weight': {0: 1, 1: 10}}\n",
      "0.488 (+/-0.095) for {'class_weight': 'balanced'}\n"
     ]
    }
   ],
   "source": [
    "scores1 = ['recall','precision']\n",
    "param_test12 = {'class_weight':[{0:1,1:1},{0:1,1:2},{0:1,1:3},{0:1,1:10},'balanced']}\n",
    "grid_tune(param_test12,scores1)"
   ]
  },
  {
   "cell_type": "code",
   "execution_count": 29,
   "metadata": {},
   "outputs": [
    {
     "name": "stdout",
     "output_type": "stream",
     "text": [
      "# Tuning hyper-parameters for recall\n",
      "\n",
      "Best parameters set found on development set:\n",
      "\n",
      "({'class_weight': {0: 1, 1: 100}}, 0.8216548039401784)\n",
      "\n",
      "Grid scores on development set:\n",
      "\n",
      "0.792 (+/-0.092) for {'class_weight': {0: 1, 1: 10}}\n",
      "0.801 (+/-0.084) for {'class_weight': {0: 1, 1: 20}}\n",
      "0.810 (+/-0.072) for {'class_weight': {0: 1, 1: 30}}\n",
      "0.815 (+/-0.058) for {'class_weight': {0: 1, 1: 50}}\n",
      "0.822 (+/-0.060) for {'class_weight': {0: 1, 1: 100}}\n",
      "# Tuning hyper-parameters for precision\n",
      "\n",
      "Best parameters set found on development set:\n",
      "\n",
      "({'class_weight': {0: 1, 1: 10}}, 0.8640012179401789)\n",
      "\n",
      "Grid scores on development set:\n",
      "\n",
      "0.864 (+/-0.038) for {'class_weight': {0: 1, 1: 10}}\n",
      "0.853 (+/-0.030) for {'class_weight': {0: 1, 1: 20}}\n",
      "0.855 (+/-0.047) for {'class_weight': {0: 1, 1: 30}}\n",
      "0.844 (+/-0.063) for {'class_weight': {0: 1, 1: 50}}\n",
      "0.807 (+/-0.080) for {'class_weight': {0: 1, 1: 100}}\n"
     ]
    }
   ],
   "source": [
    "scores1 = ['recall','precision']\n",
    "param_test13 = {'class_weight':[{0:1,1:10},{0:1,1:20},{0:1,1:30},{0:1,1:50},{0:1,1:100}]}\n",
    "grid_tune(param_test13,scores1)"
   ]
  },
  {
   "cell_type": "code",
   "execution_count": 30,
   "metadata": {},
   "outputs": [
    {
     "name": "stdout",
     "output_type": "stream",
     "text": [
      "# Tuning hyper-parameters for recall\n",
      "\n",
      "Best parameters set found on development set:\n",
      "\n",
      "({'class_weight': {0: 1, 1: 1000}}, 0.8600612312380517)\n",
      "\n",
      "Grid scores on development set:\n",
      "\n",
      "0.826 (+/-0.059) for {'class_weight': {0: 1, 1: 150}}\n",
      "0.838 (+/-0.076) for {'class_weight': {0: 1, 1: 200}}\n",
      "0.853 (+/-0.098) for {'class_weight': {0: 1, 1: 500}}\n",
      "0.860 (+/-0.088) for {'class_weight': {0: 1, 1: 1000}}\n",
      "# Tuning hyper-parameters for precision\n",
      "\n",
      "Best parameters set found on development set:\n",
      "\n",
      "({'class_weight': {0: 1, 1: 150}}, 0.7805500536523068)\n",
      "\n",
      "Grid scores on development set:\n",
      "\n",
      "0.781 (+/-0.092) for {'class_weight': {0: 1, 1: 150}}\n",
      "0.771 (+/-0.085) for {'class_weight': {0: 1, 1: 200}}\n",
      "0.562 (+/-0.109) for {'class_weight': {0: 1, 1: 500}}\n",
      "0.219 (+/-0.020) for {'class_weight': {0: 1, 1: 1000}}\n"
     ]
    }
   ],
   "source": [
    "scores1 = ['recall','precision']\n",
    "param_test14 = {'class_weight':[{0:1,1:150},{0:1,1:200},{0:1,1:500},{0:1,1:1000}]}\n",
    "grid_tune(param_test14,scores1)"
   ]
  },
  {
   "cell_type": "markdown",
   "metadata": {},
   "source": [
    "Based on what we see from the gridsearch on different values of class weights, setting a class weight of 1:200 will give us a recall value of 83.8% and a precision value of 77.1%. **This has to be adjusted according to the needs of the business while solving the problem.** <br>\n",
    "The tuned random forest classifier for this classification problem is:"
   ]
  },
  {
   "cell_type": "code",
   "execution_count": 42,
   "metadata": {
    "collapsed": true
   },
   "outputs": [],
   "source": [
    "rf_tuned=RandomForestClassifier(n_estimators=275,max_features='sqrt',max_depth=10, min_samples_split=2, \n",
    "                               min_samples_leaf=3, max_leaf_nodes=30, min_impurity_decrease=0.0, \n",
    "                               bootstrap=True, oob_score=True, n_jobs=-1, random_state=2, verbose=0, \n",
    "                               warm_start=False, class_weight={0:1,1:200})"
   ]
  },
  {
   "cell_type": "markdown",
   "metadata": {},
   "source": [
    "### 10-fold Cross Validation on the tuned model"
   ]
  },
  {
   "cell_type": "code",
   "execution_count": 43,
   "metadata": {},
   "outputs": [
    {
     "name": "stdout",
     "output_type": "stream",
     "text": [
      "Mean CV Test Precision: 71.04\n",
      "Mean CV Test Recall: 84.41\n",
      "Std.Devation of CV Test Precision: 6.989\n",
      "Std.Devation of CV Test Recall: 5.979\n"
     ]
    }
   ],
   "source": [
    "cv_modelfit(rf_tuned,df_train,predictors,response,10)"
   ]
  },
  {
   "cell_type": "markdown",
   "metadata": {},
   "source": [
    "The 10-fold cross validated test mean recall is 84.4% and 10-fold cross validated test mean precision is 71.0%. This means the fraudulent transactions are correctly predicted as fraud 84.4% of the time and 71.0% of those predicted as fraud are actually fraud. <br>"
   ]
  },
  {
   "cell_type": "markdown",
   "metadata": {},
   "source": [
    "### Testing the predctive model on test data"
   ]
  },
  {
   "cell_type": "code",
   "execution_count": 48,
   "metadata": {},
   "outputs": [
    {
     "name": "stdout",
     "output_type": "stream",
     "text": [
      "Model report on training data:\n",
      "Train: Precision: 70.41\n",
      "Train: Recall : 89.16\n",
      "Average Precision (Train): 75.524495\n",
      "\n",
      "Model report on test data:\n",
      "Test: Precision: 65.62\n",
      "Test: Recall : 85.71\n",
      "Average Precision (Trest): 69.204245\n"
     ]
    },
    {
     "data": {
      "image/png": "[encoded data removed]",
      "text/plain": [
       "<matplotlib.figure.Figure at 0x10cb419d0>"
      ]
     },
     "metadata": {},
     "output_type": "display_data"
    }
   ],
   "source": [
    "modelfit(rf_tuned,df_train, df_test,predictors,response,plot=True)"
   ]
  },
  {
   "cell_type": "markdown",
   "metadata": {},
   "source": [
    "The model predicted the fraudulent transactions in the test data with a recall of 85.7% and a precision of 65.6% which are within one standard deviation from the estimated 10-fold cross validation values. "
   ]
  }
 ],
 "metadata": {
  "kernelspec": {
   "display_name": "Python 2",
   "language": "python",
   "name": "python2"
  },
  "language_info": {
   "codemirror_mode": {
    "name": "ipython",
    "version": 2
   },
   "file_extension": ".py",
   "mimetype": "text/x-python",
   "name": "python",
   "nbconvert_exporter": "python",
   "pygments_lexer": "ipython2",
   "version": "2.7.14"
  }
 },
 "nbformat": 4,
 "nbformat_minor": 2
}
